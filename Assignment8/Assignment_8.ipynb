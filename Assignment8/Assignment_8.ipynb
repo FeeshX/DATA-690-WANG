{
  "nbformat": 4,
  "nbformat_minor": 0,
  "metadata": {
    "colab": {
      "name": "Assignment 8.ipynb",
      "provenance": [],
      "collapsed_sections": [],
      "mount_file_id": "1uax6s4pyJsbm8g1FiFaoo2rUaw_kAzjf",
      "authorship_tag": "ABX9TyP0PGEFyXO3Y7eobkylFvJS",
      "include_colab_link": true
    },
    "kernelspec": {
      "name": "python3",
      "display_name": "Python 3"
    }
  },
  "cells": [
    {
      "cell_type": "markdown",
      "metadata": {
        "id": "view-in-github",
        "colab_type": "text"
      },
      "source": [
        "<a href=\"https://colab.research.google.com/github/mishaisran/DATA-690-WANG/blob/master/Assignment8/Assignment_8.ipynb\" target=\"_parent\"><img src=\"https://colab.research.google.com/assets/colab-badge.svg\" alt=\"Open In Colab\"/></a>"
      ]
    },
    {
      "cell_type": "code",
      "metadata": {
        "id": "tCbP3WPmGIOB"
      },
      "source": [
        "# 1 - Import necessary libraries\n",
        "import os\n",
        "import random\n",
        "import numpy as np\n",
        "import pandas as pd\n",
        "import matplotlib.pyplot as plt\n",
        "%matplotlib inline\n",
        "import seaborn as sns"
      ],
      "execution_count": null,
      "outputs": []
    },
    {
      "cell_type": "code",
      "metadata": {
        "colab": {
          "base_uri": "https://localhost:8080/"
        },
        "id": "VKBuNRvN8DTr",
        "outputId": "12c98f92-bc40-4972-f540-0b95976e26cf"
      },
      "source": [
        "from google.colab import drive\n",
        "drive.mount(\"/content/drive\")"
      ],
      "execution_count": null,
      "outputs": [
        {
          "output_type": "stream",
          "text": [
            "Drive already mounted at /content/drive; to attempt to forcibly remount, call drive.mount(\"/content/drive\", force_remount=True).\n"
          ],
          "name": "stdout"
        }
      ]
    },
    {
      "cell_type": "code",
      "metadata": {
        "id": "n81r-pdlkI8w"
      },
      "source": [
        "# 2 - Retrieve the names of the 22 files and assign them to a List variable\n",
        "# You would need to filter out other files\n",
        "# Display the names of these 22 files\n",
        "\n",
        "path = '/content/drive/MyDrive/College data'\n",
        "os.chdir(path)"
      ],
      "execution_count": null,
      "outputs": []
    },
    {
      "cell_type": "code",
      "metadata": {
        "colab": {
          "base_uri": "https://localhost:8080/",
          "height": 35
        },
        "id": "IsUcAULXUAdB",
        "outputId": "e3b3f6a3-3275-4338-fcb6-d322762c9739"
      },
      "source": [
        "os.getcwd()"
      ],
      "execution_count": null,
      "outputs": [
        {
          "output_type": "execute_result",
          "data": {
            "application/vnd.google.colaboratory.intrinsic+json": {
              "type": "string"
            },
            "text/plain": [
              "'/content/drive/MyDrive/College data'"
            ]
          },
          "metadata": {
            "tags": []
          },
          "execution_count": 4
        }
      ]
    },
    {
      "cell_type": "code",
      "metadata": {
        "colab": {
          "base_uri": "https://localhost:8080/"
        },
        "id": "v4XH2IGZUIBx",
        "outputId": "8b5f15ef-b2a0-41be-c844-b11e072b2c6c"
      },
      "source": [
        "os.listdir\n",
        "dirs = os.listdir(path)\n",
        "\n",
        "for file in dirs:\n",
        "   print(file)"
      ],
      "execution_count": null,
      "outputs": [
        {
          "output_type": "stream",
          "text": [
            "MERGED1999_00_PP.csv\n",
            "MERGED2011_12_PP.csv\n",
            "MERGED2006_07_PP.csv\n",
            "MERGED2003_04_PP.csv\n",
            ".DS_Store\n",
            "MERGED2014_15_PP.csv\n",
            "MERGED1996_97_PP.csv\n",
            "MERGED2012_13_PP.csv\n",
            "FieldOfStudyData1516_1617_PP.csv\n",
            "MERGED2005_06_PP.csv\n",
            "MERGED2017_18_PP.csv\n",
            "MERGED2018_19_PP.csv\n",
            "MERGED2009_10_PP.csv\n",
            "MERGED2000_01_PP.csv\n",
            "Crosswalks.zip\n",
            "MERGED2001_02_PP.csv\n",
            "MERGED2016_17_PP.csv\n",
            "MERGED1997_98_PP.csv\n",
            "MERGED1998_99_PP.csv\n",
            "data.yaml\n",
            "MERGED2004_05_PP.csv\n",
            "MERGED2002_03_PP.csv\n",
            "MERGED2015_16_PP.csv\n",
            "MERGED2013_14_PP.csv\n",
            "MERGED2007_08_PP.csv\n",
            "MERGED2010_11_PP.csv\n",
            "MERGED2008_09_PP.csv\n",
            "FieldOfStudyData1415_1516_PP.csv\n"
          ],
          "name": "stdout"
        }
      ]
    },
    {
      "cell_type": "code",
      "metadata": {
        "colab": {
          "base_uri": "https://localhost:8080/"
        },
        "id": "jOYEyqLUUQ-s",
        "outputId": "b3226d71-0972-4fbd-8fb5-4f74dc845283"
      },
      "source": [
        "csv_files = [x for x in dirs if '.csv' and 'MERGED' in x]\n",
        "csv_files"
      ],
      "execution_count": null,
      "outputs": [
        {
          "output_type": "execute_result",
          "data": {
            "text/plain": [
              "['MERGED1999_00_PP.csv',\n",
              " 'MERGED2011_12_PP.csv',\n",
              " 'MERGED2006_07_PP.csv',\n",
              " 'MERGED2003_04_PP.csv',\n",
              " 'MERGED2014_15_PP.csv',\n",
              " 'MERGED1996_97_PP.csv',\n",
              " 'MERGED2012_13_PP.csv',\n",
              " 'MERGED2005_06_PP.csv',\n",
              " 'MERGED2017_18_PP.csv',\n",
              " 'MERGED2018_19_PP.csv',\n",
              " 'MERGED2009_10_PP.csv',\n",
              " 'MERGED2000_01_PP.csv',\n",
              " 'MERGED2001_02_PP.csv',\n",
              " 'MERGED2016_17_PP.csv',\n",
              " 'MERGED1997_98_PP.csv',\n",
              " 'MERGED1998_99_PP.csv',\n",
              " 'MERGED2004_05_PP.csv',\n",
              " 'MERGED2002_03_PP.csv',\n",
              " 'MERGED2015_16_PP.csv',\n",
              " 'MERGED2013_14_PP.csv',\n",
              " 'MERGED2007_08_PP.csv',\n",
              " 'MERGED2010_11_PP.csv',\n",
              " 'MERGED2008_09_PP.csv']"
            ]
          },
          "metadata": {
            "tags": []
          },
          "execution_count": 6
        }
      ]
    },
    {
      "cell_type": "code",
      "metadata": {
        "colab": {
          "base_uri": "https://localhost:8080/",
          "height": 35
        },
        "id": "wNrHH0umu4w-",
        "outputId": "6c71e887-9729-415d-a0c3-38576d0ee350"
      },
      "source": [
        "# 3 - Write code to randomly select one file name out of the 22 files names. \n",
        "# Hint: generate a random integer between 0 and 21 first\n",
        "# Display the file name\n",
        "\n",
        "df = random.choice(csv_files)\n",
        "df"
      ],
      "execution_count": null,
      "outputs": [
        {
          "output_type": "execute_result",
          "data": {
            "application/vnd.google.colaboratory.intrinsic+json": {
              "type": "string"
            },
            "text/plain": [
              "'MERGED2000_01_PP.csv'"
            ]
          },
          "metadata": {
            "tags": []
          },
          "execution_count": 7
        }
      ]
    },
    {
      "cell_type": "code",
      "metadata": {
        "colab": {
          "base_uri": "https://localhost:8080/"
        },
        "id": "Y3ql5Njpu6lm",
        "outputId": "1f64eb3c-9d42-44e8-cc5d-d0740596e8f1"
      },
      "source": [
        "# 4 - Only read the two columns: college name (INSTNM) and in state tution (\"TUITIONFEE_IN\")\n",
        "cols = [\"INSTNM\",\"TUITIONFEE_IN\"]\n",
        "df  = pd.read_csv(df, usecols=cols)\n",
        "df.head(2)\n",
        "\n",
        "# from this file into a data frame aand display use info() function to display a summary information\n",
        "df.info()"
      ],
      "execution_count": null,
      "outputs": [
        {
          "output_type": "stream",
          "text": [
            "<class 'pandas.core.frame.DataFrame'>\n",
            "RangeIndex: 6654 entries, 0 to 6653\n",
            "Data columns (total 2 columns):\n",
            " #   Column         Non-Null Count  Dtype  \n",
            "---  ------         --------------  -----  \n",
            " 0   INSTNM         6654 non-null   object \n",
            " 1   TUITIONFEE_IN  3360 non-null   float64\n",
            "dtypes: float64(1), object(1)\n",
            "memory usage: 104.1+ KB\n"
          ],
          "name": "stdout"
        }
      ]
    },
    {
      "cell_type": "code",
      "metadata": {
        "colab": {
          "base_uri": "https://localhost:8080/"
        },
        "id": "y2nOvvSzwYkE",
        "outputId": "ea9f4e18-0880-4d7b-c4ff-0d71fb73849e"
      },
      "source": [
        "# 5 - Find out how many observations have missing value.\n",
        "\n",
        "def NaN_percent(df, column_name):\n",
        "    row_count = df[column_name].shape[0]\n",
        "    empty_values = row_count - df[column_name].count()\n",
        "    return (100.0*empty_values)/row_count\n",
        "    \n",
        "for i in list(df):\n",
        "    print(i +': ' + str(NaN_percent(df,i))+'%')"
      ],
      "execution_count": null,
      "outputs": [
        {
          "output_type": "stream",
          "text": [
            "INSTNM: 0.0%\n",
            "TUITIONFEE_IN: 49.50405770964833%\n"
          ],
          "name": "stdout"
        }
      ]
    },
    {
      "cell_type": "code",
      "metadata": {
        "colab": {
          "base_uri": "https://localhost:8080/"
        },
        "id": "NuTY_F7GYgwN",
        "outputId": "35636624-4546-43d8-e38d-0de0a89c220c"
      },
      "source": [
        "len(df[df.TUITIONFEE_IN.isna()==True])"
      ],
      "execution_count": null,
      "outputs": [
        {
          "output_type": "execute_result",
          "data": {
            "text/plain": [
              "3294"
            ]
          },
          "metadata": {
            "tags": []
          },
          "execution_count": 10
        }
      ]
    },
    {
      "cell_type": "code",
      "metadata": {
        "colab": {
          "base_uri": "https://localhost:8080/"
        },
        "id": "pOadPp8awayY",
        "outputId": "c98a7482-bdc2-4f63-b242-ab17ebd9da8e"
      },
      "source": [
        "# 6 - Drop those observations with missing value\n",
        "# Disaply the number of observations afterward\n",
        "df.dropna(axis=0, inplace = True)\n",
        "print(df.isna().sum().to_string())\n",
        "\n",
        "df.shape"
      ],
      "execution_count": null,
      "outputs": [
        {
          "output_type": "stream",
          "text": [
            "INSTNM           0\n",
            "TUITIONFEE_IN    0\n"
          ],
          "name": "stdout"
        },
        {
          "output_type": "execute_result",
          "data": {
            "text/plain": [
              "(3360, 2)"
            ]
          },
          "metadata": {
            "tags": []
          },
          "execution_count": 11
        }
      ]
    },
    {
      "cell_type": "code",
      "metadata": {
        "colab": {
          "base_uri": "https://localhost:8080/"
        },
        "id": "SrqGs_G9xnq-",
        "outputId": "d19cb450-7232-471a-f100-51cd4a93575e"
      },
      "source": [
        "# 7 - Find out how many observations have 0 tution.\n",
        "df[df.TUITIONFEE_IN == 0]\n",
        "len(df[df.TUITIONFEE_IN == 0])"
      ],
      "execution_count": null,
      "outputs": [
        {
          "output_type": "execute_result",
          "data": {
            "text/plain": [
              "9"
            ]
          },
          "metadata": {
            "tags": []
          },
          "execution_count": 12
        }
      ]
    },
    {
      "cell_type": "code",
      "metadata": {
        "colab": {
          "base_uri": "https://localhost:8080/"
        },
        "id": "V2jRJB58xrGR",
        "outputId": "a8c0715f-2622-45eb-8823-f696f92a9dc2"
      },
      "source": [
        "# 8 - Drop those observations with 0 tuition\n",
        "# Disaply the number of observations afterward\n",
        "df=df[df.TUITIONFEE_IN != 0]\n",
        "\n",
        "df.shape[0]"
      ],
      "execution_count": null,
      "outputs": [
        {
          "output_type": "execute_result",
          "data": {
            "text/plain": [
              "3351"
            ]
          },
          "metadata": {
            "tags": []
          },
          "execution_count": 13
        }
      ]
    },
    {
      "cell_type": "code",
      "metadata": {
        "colab": {
          "base_uri": "https://localhost:8080/"
        },
        "id": "R0l26NqdxstJ",
        "outputId": "66a08ec1-730e-4a28-e9e4-0f7e366912f2"
      },
      "source": [
        "# 9 - Calculate and display the mean (average) of the tuitions of all the remaining observations\n",
        "\n",
        "mean = round((df[\"TUITIONFEE_IN\"].mean()),2)\n",
        "mean"
      ],
      "execution_count": null,
      "outputs": [
        {
          "output_type": "execute_result",
          "data": {
            "text/plain": [
              "6814.48"
            ]
          },
          "metadata": {
            "tags": []
          },
          "execution_count": 14
        }
      ]
    },
    {
      "cell_type": "code",
      "metadata": {
        "colab": {
          "base_uri": "https://localhost:8080/"
        },
        "id": "S4XprurTxtAT",
        "outputId": "30b070cc-9d31-4f52-f7c0-9ba926e6ed4e"
      },
      "source": [
        "# 10 - Randomly select just 1 observation from the data frame.\n",
        "# Display the tuition of that observation.\n",
        "\n",
        "sample = random.randint(1, len(df));\n",
        "sample_tuition = df.iloc[sample, 1]\n",
        "uni_name = df.iloc[sample, 0];\n",
        "sample_tuition, uni_name"
      ],
      "execution_count": null,
      "outputs": [
        {
          "output_type": "execute_result",
          "data": {
            "text/plain": [
              "(7272.0, 'Heald College-Roseville')"
            ]
          },
          "metadata": {
            "tags": []
          },
          "execution_count": 15
        }
      ]
    },
    {
      "cell_type": "code",
      "metadata": {
        "colab": {
          "base_uri": "https://localhost:8080/"
        },
        "id": "3SGFTnAvxvN2",
        "outputId": "dc834845-b031-4d82-97b4-0688d9e22813"
      },
      "source": [
        "# 11 - Calculate the different between the tuition of this observation and \n",
        "# the mean tuition off all observations calculated earlier.\n",
        "# Display the difference\n",
        "\n",
        "difference = sample_tuition - mean\n",
        "difference"
      ],
      "execution_count": null,
      "outputs": [
        {
          "output_type": "execute_result",
          "data": {
            "text/plain": [
              "457.52000000000044"
            ]
          },
          "metadata": {
            "tags": []
          },
          "execution_count": 16
        }
      ]
    },
    {
      "cell_type": "code",
      "metadata": {
        "colab": {
          "base_uri": "https://localhost:8080/"
        },
        "id": "tM4BkBMLxwx6",
        "outputId": "48e8c936-a911-43a7-fff8-e459b6641dd3"
      },
      "source": [
        "# 12 - Repeat 10 to 11 several times get the feel of the size of the difference in means\n",
        "for i in range(5):\n",
        "  x = random.randint(1, len(df));\n",
        "  rand_tuit = round((df.iloc[x, 1] - mean),2)\n",
        "  uni_name = df.iloc[x, 0];\n",
        "  print (rand_tuit, uni_name)"
      ],
      "execution_count": null,
      "outputs": [
        {
          "output_type": "stream",
          "text": [
            "-4234.48 NORTH COUNTRY COMMUNITY COLLEGE-MALONE\n",
            "-5374.48 Central Community College\n",
            "-4438.48 Glenville State College\n",
            "11485.52 Saint Mary's College\n",
            "-4828.48 Ivy Tech Community College-South Central\n"
          ],
          "name": "stdout"
        }
      ]
    },
    {
      "cell_type": "code",
      "metadata": {
        "colab": {
          "base_uri": "https://localhost:8080/"
        },
        "id": "Glj8Z1Q4x8xh",
        "outputId": "2b3035a8-1e3d-4740-eca7-4a582f45de7f"
      },
      "source": [
        "# 13 - Randomly select 20 observations, display the tuition of these observation.\n",
        "result = []\n",
        "for i in range(20):\n",
        "  x = random.randint(1, len(df));\n",
        "  result.append(round((df.iloc[x, 1] - mean),2))\n",
        "result"
      ],
      "execution_count": null,
      "outputs": [
        {
          "output_type": "execute_result",
          "data": {
            "text/plain": [
              "[-3860.48,\n",
              " -5974.48,\n",
              " -5314.48,\n",
              " 2105.52,\n",
              " -1223.48,\n",
              " -4870.48,\n",
              " 3897.52,\n",
              " -1974.48,\n",
              " 7860.52,\n",
              " 6127.52,\n",
              " -4389.48,\n",
              " -3367.48,\n",
              " 11805.52,\n",
              " 12545.52,\n",
              " -6066.48,\n",
              " -2484.48,\n",
              " 8735.52,\n",
              " 3901.52,\n",
              " -5578.48,\n",
              " 8525.52]"
            ]
          },
          "metadata": {
            "tags": []
          },
          "execution_count": 18
        }
      ]
    },
    {
      "cell_type": "code",
      "metadata": {
        "colab": {
          "base_uri": "https://localhost:8080/"
        },
        "id": "FI4PsGEGx98d",
        "outputId": "7129a9d3-dd0d-4d8b-f087-a7e220f29710"
      },
      "source": [
        "# 14 - Calculate and displat the mean tuition of these 20 observations\n",
        "Mean_rand_obv = round(sum(result)/len(result),2)\n",
        "Mean_rand_obv"
      ],
      "execution_count": null,
      "outputs": [
        {
          "output_type": "execute_result",
          "data": {
            "text/plain": [
              "1020.02"
            ]
          },
          "metadata": {
            "tags": []
          },
          "execution_count": 19
        }
      ]
    },
    {
      "cell_type": "code",
      "metadata": {
        "colab": {
          "base_uri": "https://localhost:8080/"
        },
        "id": "bKsPRlIzx_Pi",
        "outputId": "87f7240e-bffd-45f6-bf30-a430b12d8cc1"
      },
      "source": [
        "# 15 - Calculate  the different between the average tuition of these 20 observations \n",
        "# and the mean tuition off all observations calculated earlier.\n",
        "# Display the difference\n",
        "\n",
        "print(Mean_rand_obv - mean)"
      ],
      "execution_count": null,
      "outputs": [
        {
          "output_type": "stream",
          "text": [
            "-5794.459999999999\n"
          ],
          "name": "stdout"
        }
      ]
    },
    {
      "cell_type": "code",
      "metadata": {
        "colab": {
          "base_uri": "https://localhost:8080/"
        },
        "id": "WYmyc4Ux0P9o",
        "outputId": "f916886c-9ab8-4df3-f800-f1f19fb58dc3"
      },
      "source": [
        "# 16 - Repeat 13 to 15 several times and get the feel of the size of the difference in means \n",
        "# Compare these differences with the differences calculated earlier with just 1 observation\n",
        "# Describe your hunch/conclusion\n",
        "\n",
        "for i in range(20):\n",
        "  y_list = []\n",
        "  y = random.randint(1, len(df));\n",
        "  y_list.append(df.iloc[y,1])\n",
        "  a_list = (sum(y_list)/len(y_list)) - mean\n",
        "  print(round((a_list),2))"
      ],
      "execution_count": null,
      "outputs": [
        {
          "output_type": "stream",
          "text": [
            "8585.52\n",
            "45.52\n",
            "-3274.48\n",
            "-5173.48\n",
            "3901.52\n",
            "-5058.48\n",
            "-264.48\n",
            "13741.52\n",
            "-6294.48\n",
            "-2431.48\n",
            "-864.48\n",
            "-5128.48\n",
            "-4904.48\n",
            "-3668.48\n",
            "-6160.48\n",
            "1885.52\n",
            "-5238.48\n",
            "-5076.48\n",
            "-5034.48\n",
            "1585.52\n"
          ],
          "name": "stdout"
        }
      ]
    },
    {
      "cell_type": "code",
      "metadata": {
        "id": "AuwrhAVi0RTJ"
      },
      "source": [
        "# 17 - write function Code here\n",
        "\n",
        "def difference_in_means(r,df) :\n",
        "  pop_mean = df.TUITIONFEE_IN.mean()\n",
        "  sample_list = []\n",
        "  for i in range(r):\n",
        "    x = random.randint(1, len(df));\n",
        "    sample_list.append(df.iloc[x,1])\n",
        "    diff_means_list = (sum(sample_list)/len(sample_list)) - pop_mean\n",
        "  return diff_means_list"
      ],
      "execution_count": null,
      "outputs": []
    },
    {
      "cell_type": "code",
      "metadata": {
        "colab": {
          "base_uri": "https://localhost:8080/"
        },
        "id": "tLVvf8zV0S46",
        "outputId": "5e1ff561-3a80-40e5-c44c-9bfa592b06ad"
      },
      "source": [
        "# 18 - test the function by passing a sample size and the name of the dataframe\n",
        "# Dsplay the return of the function\n",
        "\n",
        "difference_in_means(100,df)"
      ],
      "execution_count": null,
      "outputs": [
        {
          "output_type": "execute_result",
          "data": {
            "text/plain": [
              "-1486.9498567591763"
            ]
          },
          "metadata": {
            "tags": []
          },
          "execution_count": 52
        }
      ]
    },
    {
      "cell_type": "code",
      "metadata": {
        "id": "sOgnmm-W0UOI",
        "colab": {
          "base_uri": "https://localhost:8080/"
        },
        "outputId": "47abce60-b036-418b-a4c7-58664f496efa"
      },
      "source": [
        "# 19 - Create a list of sequence numbers from 1 to 50, name it \"sample_sizes\";\n",
        "# display it to make sure its members are from 1 to 50\n",
        "sample_sizes = [i for i in range(1,51)]\n",
        "print(sample_sizes)"
      ],
      "execution_count": null,
      "outputs": [
        {
          "output_type": "stream",
          "text": [
            "[1, 2, 3, 4, 5, 6, 7, 8, 9, 10, 11, 12, 13, 14, 15, 16, 17, 18, 19, 20, 21, 22, 23, 24, 25, 26, 27, 28, 29, 30, 31, 32, 33, 34, 35, 36, 37, 38, 39, 40, 41, 42, 43, 44, 45, 46, 47, 48, 49, 50]\n"
          ],
          "name": "stdout"
        }
      ]
    },
    {
      "cell_type": "code",
      "metadata": {
        "id": "M8fRiwJa0VbI",
        "colab": {
          "base_uri": "https://localhost:8080/"
        },
        "outputId": "5538985d-202e-4428-d3c0-c4af3eef086a"
      },
      "source": [
        "# 20 - Create an empty list and name it \"means_diff\" for differences of population mean and sample means;\n",
        "# Loop through the list sample_sizes:\n",
        "\n",
        "# For each element in the sample size list, obtain a random sample of that size from the data frame;\n",
        "# Calculate the sample mean \n",
        "# Calculate the difference between the population mean and the sample mean\n",
        "# Append the difference to the list \"means_diff\"\n",
        "# Display the list \"means_diff\" after the loop is completed\n",
        "\n",
        "means_diff = []\n",
        "for i in sample_sizes:\n",
        "  means_diff.append(difference_in_means(i,df))\n",
        "\n",
        "print(means_diff)\n",
        "len(means_diff)"
      ],
      "execution_count": null,
      "outputs": [
        {
          "output_type": "stream",
          "text": [
            "[-5254.479856759176, 2070.520143240824, -2539.146523425843, -389.2298567591761, -4494.879856759177, -1362.146523425843, 2977.520143240824, 2996.270143240824, 3671.7423654630466, -1881.5798567591764, -131.29803857735806, -3120.729856759176, -3842.1721644514837, 272.9487146693955, 91.1868099074909, 702.2701432408239, -1401.1857391121175, -430.25763453695345, -478.26933044338693, -666.9798567591761, 1117.8058575265386, -1142.298038577358, 516.476664979954, -563.3548567591761, -422.1198567591764, 1079.5586047792858, -2210.3687456480648, -31.872713902032956, 740.0373846201346, -1629.1131900925093, 786.874981950501, -710.3861067591761, -2472.479856759176, -1818.891621465058, -820.5941424734619, -1953.7576345369534, 1765.655278375959, 239.8885642934556, 2740.5970663177477, -743.0298567591763, -256.6993689542978, -151.24176152108066, -56.107763735920344, 279.6792341499149, 346.83125435193506, -381.7407263243931, 809.9669517514621, -587.4798567591761, 241.43851058776272, -803.0798567591764]\n"
          ],
          "name": "stdout"
        },
        {
          "output_type": "execute_result",
          "data": {
            "text/plain": [
              "50"
            ]
          },
          "metadata": {
            "tags": []
          },
          "execution_count": 57
        }
      ]
    },
    {
      "cell_type": "code",
      "metadata": {
        "id": "eKZkE-3z0dtE",
        "colab": {
          "base_uri": "https://localhost:8080/",
          "height": 350
        },
        "outputId": "200f36a3-f783-46b9-df86-987c123b2b9c"
      },
      "source": [
        "# 21 - Make a scatter plot with sample size on the x-axs and  mean difference on the y-axis\n",
        "# Observe as the sample size increases, the sample means converge to the population mean.\n",
        "# Make sure you make the plot large enough\n",
        "\n",
        "fig, ax = plt.subplots(figsize=(15, 5))\n",
        "\n",
        "ax.scatter(sample_sizes, means_diff,color='g')\n",
        "ax.set_title('Scatter Plot of Sample and Population Tuitions')\n",
        "ax.set_xlabel('Sample Size')\n",
        "ax.set_ylabel('Difference of Sample and Population tuitions (USD)')\n",
        "plt.show()"
      ],
      "execution_count": null,
      "outputs": [
        {
          "output_type": "display_data",
          "data": {
            "image/png": "[encoded data removed]",
            "text/plain": [
              "<Figure size 1080x360 with 1 Axes>"
            ]
          },
          "metadata": {
            "tags": [],
            "needs_background": "light"
          }
        }
      ]
    },
    {
      "cell_type": "code",
      "metadata": {
        "id": "EZY6dbPRysnZ",
        "colab": {
          "base_uri": "https://localhost:8080/"
        },
        "outputId": "0fa22874-8b8b-4512-c1da-a9c84952da82"
      },
      "source": [
        "sample_sizes_lar = [i for i in range(1,100)]\n",
        "print(sample_sizes_lar)\n",
        "len(sample_sizes_lar)"
      ],
      "execution_count": null,
      "outputs": [
        {
          "output_type": "stream",
          "text": [
            "[1, 2, 3, 4, 5, 6, 7, 8, 9, 10, 11, 12, 13, 14, 15, 16, 17, 18, 19, 20, 21, 22, 23, 24, 25, 26, 27, 28, 29, 30, 31, 32, 33, 34, 35, 36, 37, 38, 39, 40, 41, 42, 43, 44, 45, 46, 47, 48, 49, 50, 51, 52, 53, 54, 55, 56, 57, 58, 59, 60, 61, 62, 63, 64, 65, 66, 67, 68, 69, 70, 71, 72, 73, 74, 75, 76, 77, 78, 79, 80, 81, 82, 83, 84, 85, 86, 87, 88, 89, 90, 91, 92, 93, 94, 95, 96, 97, 98, 99]\n"
          ],
          "name": "stdout"
        },
        {
          "output_type": "execute_result",
          "data": {
            "text/plain": [
              "99"
            ]
          },
          "metadata": {
            "tags": []
          },
          "execution_count": 93
        }
      ]
    },
    {
      "cell_type": "code",
      "metadata": {
        "id": "r5qsXY9z0gIn"
      },
      "source": [
        "# 22 - repeat 18 to 21 by replacing 50 with a larger number. For example, 300, or even 1000.\n",
        "# and see how the plot looks.\n",
        "\n",
        "means_diff_lar = []\n",
        "for i in sample_sizes_lar:\n",
        "  means_diff_lar.append(difference_in_means(i,df))"
      ],
      "execution_count": null,
      "outputs": []
    },
    {
      "cell_type": "code",
      "metadata": {
        "id": "WKHzc3iTaTw1",
        "colab": {
          "base_uri": "https://localhost:8080/",
          "height": 350
        },
        "outputId": "dfaeb209-d504-457d-e637-122bb82f2a90"
      },
      "source": [
        "fig, ax = plt.subplots(figsize=(15,5))\n",
        "\n",
        "ax.scatter(sample_sizes_lar, means_diff_lar,color='r')\n",
        "ax.set_title('Scatter Plot of Sample and Population Tuitions')\n",
        "ax.set_xlabel('Sample Size')\n",
        "ax.set_ylabel('Difference of Sample and Population tuitions (USD)')\n",
        "plt.show()"
      ],
      "execution_count": null,
      "outputs": [
        {
          "output_type": "display_data",
          "data": {
            "image/png": "[encoded data removed]",
            "text/plain": [
              "<Figure size 1080x360 with 1 Axes>"
            ]
          },
          "metadata": {
            "tags": [],
            "needs_background": "light"
          }
        }
      ]
    },
    {
      "cell_type": "markdown",
      "metadata": {
        "id": "qeBMmWeOzrHR"
      },
      "source": [
        "As the sample size increases, the difference between population mean and sample mean converges to 0"
      ]
    }
  ]
}
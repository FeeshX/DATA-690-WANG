{
  "nbformat": 4,
  "nbformat_minor": 0,
  "metadata": {
    "colab": {
      "name": "Assignment3_hwk",
      "provenance": [],
      "collapsed_sections": [],
      "authorship_tag": "ABX9TyMEY91/G71PwhfpJ9jFoP19",
      "include_colab_link": true
    },
    "kernelspec": {
      "name": "python3",
      "display_name": "Python 3"
    }
  },
  "cells": [
    {
      "cell_type": "markdown",
      "metadata": {
        "id": "view-in-github",
        "colab_type": "text"
      },
      "source": [
        "<a href=\"https://colab.research.google.com/github/FeeshX/DATA-690-WANG/blob/master/Assignment3/Assignment3_hwk.ipynb\" target=\"_parent\"><img src=\"https://colab.research.google.com/assets/colab-badge.svg\" alt=\"Open In Colab\"/></a>"
      ]
    },
    {
      "cell_type": "markdown",
      "metadata": {
        "id": "9TpGzsWoQe4S",
        "colab_type": "text"
      },
      "source": [
        "**Exercise**\n",
        "\n",
        "The task involves writing a program that generates 100 random integers between 0 and 9, and subsequently performing certain actions around it as outlined in each step."
      ]
    },
    {
      "cell_type": "code",
      "metadata": {
        "id": "oZP6yf3CQTdc",
        "colab_type": "code",
        "colab": {
          "base_uri": "https://localhost:8080/",
          "height": 185
        },
        "outputId": "480dee2a-314f-4568-d685-788f8d848389"
      },
      "source": [
        "#Print the numbers in a 10 by 10 matrix neatly arranged (one space between each number):\n",
        "import random\n",
        "\n",
        "matrix1 = [random.choices(range(0,10), k=10) for _ in range(10)]\n",
        "\n",
        "for i in range(len(matrix1)): \n",
        "    for x in matrix1: \n",
        "        print(x[i], end =' ') \n",
        "    print()"
      ],
      "execution_count": 1,
      "outputs": [
        {
          "output_type": "stream",
          "text": [
            "9 8 4 6 1 3 4 3 2 0 \n",
            "5 1 3 4 3 2 8 6 2 4 \n",
            "5 4 5 2 2 4 6 9 9 3 \n",
            "4 1 9 7 4 9 3 8 2 6 \n",
            "5 8 0 1 3 9 6 3 8 9 \n",
            "3 8 9 6 5 9 3 7 7 8 \n",
            "1 5 6 1 8 0 2 3 7 8 \n",
            "5 2 9 2 6 1 5 2 8 4 \n",
            "0 9 4 7 1 8 8 7 5 5 \n",
            "2 2 5 3 1 0 7 4 2 2 \n"
          ],
          "name": "stdout"
        }
      ]
    },
    {
      "cell_type": "code",
      "metadata": {
        "id": "iBu0Iq5jdwCF",
        "colab_type": "code",
        "colab": {
          "base_uri": "https://localhost:8080/",
          "height": 185
        },
        "outputId": "4144acb8-20b3-4dcf-8d19-43c55baa2bdd"
      },
      "source": [
        "##If the random number is an odd number, print \"@\" instead\n",
        "# Function to update the array  \n",
        "\n",
        "def searchlist(matrix1):\n",
        "    for i, element in enumerate(matrix1):\n",
        "        if isinstance(element,list):\n",
        "            searchlist(element)\n",
        "        elif (element % 2 != 0):\n",
        "            element = '@'\n",
        "            matrix1[i] = element\n",
        "\n",
        "searchlist(matrix1)\n",
        "\n",
        "for i in range(len(matrix1)): \n",
        "    for x in matrix1: \n",
        "        print(x[i], end =' ') \n",
        "    print()"
      ],
      "execution_count": 2,
      "outputs": [
        {
          "output_type": "stream",
          "text": [
            "@ 8 4 6 @ @ 4 @ 2 0 \n",
            "@ @ @ 4 @ 2 8 6 2 4 \n",
            "@ 4 @ 2 2 4 6 @ @ @ \n",
            "4 @ @ @ 4 @ @ 8 2 6 \n",
            "@ 8 0 @ @ @ 6 @ 8 @ \n",
            "@ 8 @ 6 @ @ @ @ @ 8 \n",
            "@ @ 6 @ 8 0 2 @ @ 8 \n",
            "@ 2 @ 2 6 @ @ 2 8 4 \n",
            "0 @ 4 @ @ 8 8 @ @ @ \n",
            "2 2 @ @ @ 0 @ 4 2 2 \n"
          ],
          "name": "stdout"
        }
      ]
    },
    {
      "cell_type": "code",
      "metadata": {
        "id": "2jsGe0SPXY5N",
        "colab_type": "code",
        "colab": {
          "base_uri": "https://localhost:8080/",
          "height": 187
        },
        "outputId": "20277033-0670-4c08-ab6a-13bc28b09fd7"
      },
      "source": [
        "#Calculate and print the total of each row (use \"*\" to separate the total from the numbers):\n",
        "def column_sum(matrix1): \n",
        "      \n",
        "     return [sum(j) for j in zip(*matrix1)] \n",
        "           \n",
        "new_list = column_sum(matrix1)\n",
        "\n",
        "matrix1.append(new_list)\n",
        "\n",
        "matrix1.insert(len(matrix1) - 1, ['*', '*', '*', '*', '*', '*', '*', '*', '*', '*'])\n",
        "\n",
        "for i in range(len(matrix1) - 2): \n",
        "  for x in matrix1:\n",
        "    print(x[i], end= ' ') \n",
        "  print()"
      ],
      "execution_count": null,
      "outputs": [
        {
          "output_type": "stream",
          "text": [
            "4 3 2 1 6 4 8 2 3 5 * 38 \n",
            "6 7 3 7 4 5 1 3 4 4 * 44 \n",
            "7 2 9 9 3 9 9 7 0 8 * 63 \n",
            "3 4 1 9 0 0 7 2 4 4 * 34 \n",
            "1 0 9 9 8 8 9 4 8 9 * 65 \n",
            "8 0 1 3 1 8 2 6 0 6 * 35 \n",
            "4 0 0 8 7 8 3 4 4 9 * 47 \n",
            "2 9 0 5 8 4 7 5 5 7 * 52 \n",
            "5 9 3 4 0 0 3 9 8 7 * 48 \n",
            "8 1 3 8 3 9 4 9 6 6 * 57 \n"
          ],
          "name": "stdout"
        }
      ]
    }
  ]
}
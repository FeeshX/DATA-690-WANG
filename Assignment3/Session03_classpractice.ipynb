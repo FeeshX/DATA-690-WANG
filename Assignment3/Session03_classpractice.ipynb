{
  "nbformat": 4,
  "nbformat_minor": 0,
  "metadata": {
    "colab": {
      "name": "Session03_practice.ipynb",
      "provenance": [],
      "authorship_tag": "ABX9TyOcuNpM/E62k+l97+jTOJIZ",
      "include_colab_link": true
    },
    "kernelspec": {
      "name": "python3",
      "display_name": "Python 3"
    }
  },
  "cells": [
    {
      "cell_type": "markdown",
      "metadata": {
        "id": "view-in-github",
        "colab_type": "text"
      },
      "source": [
        "<a href=\"https://colab.research.google.com/github/FeeshX/DATA-690-WANG/blob/master/Assignment3/Session03_practice.ipynb\" target=\"_parent\"><img src=\"https://colab.research.google.com/assets/colab-badge.svg\" alt=\"Open In Colab\"/></a>"
      ]
    },
    {
      "cell_type": "code",
      "metadata": {
        "id": "qXTZxu0OeyS1",
        "colab_type": "code",
        "colab": {
          "base_uri": "https://localhost:8080/",
          "height": 54
        },
        "outputId": "6bd60c7c-d5f8-49b0-a274-e3ac9ef6f13b"
      },
      "source": [
        "people_names = \"Wang, Chaojie; Seelam, Arjun Reddy; Rius, Jonathan; Liang, Jinqing; Chowdhury, Debanjan; Maszkiewicz, Lori; Negussie, Neftalem; Steinruck, Michaella; Phogat, Shreshta; Fatima, Misha; Hirabayashi, Scott; Soroush, Masoud; Bolz, Jessica; Mbu Nyamsi, Tchuissi; Dokuzoglu, Yuksel; Gogineni, Shailesh; Pabbisetty, Sai Vinay; Preis, Liam; Jyesta, Vishnu Priya; Narne, Yoshita; Boban, Shruthi; Oberoi, Ashreen Kaur; Cohens, Nashika; Noppinger, Ken; Kakani, Goutham; Hayo, Alyssa\"\n",
        "print(people_names)"
      ],
      "execution_count": 33,
      "outputs": [
        {
          "output_type": "stream",
          "text": [
            "Wang, Chaojie; Seelam, Arjun Reddy; Rius, Jonathan; Liang, Jinqing; Chowdhury, Debanjan; Maszkiewicz, Lori; Negussie, Neftalem; Steinruck, Michaella; Phogat, Shreshta; Fatima, Misha; Hirabayashi, Scott; Soroush, Masoud; Bolz, Jessica; Mbu Nyamsi, Tchuissi; Dokuzoglu, Yuksel; Gogineni, Shailesh; Pabbisetty, Sai Vinay; Preis, Liam; Jyesta, Vishnu Priya; Narne, Yoshita; Boban, Shruthi; Oberoi, Ashreen Kaur; Cohens, Nashika; Noppinger, Ken; Kakani, Goutham; Hayo, Alyssa\n"
          ],
          "name": "stdout"
        }
      ]
    },
    {
      "cell_type": "code",
      "metadata": {
        "id": "asBz-mqMiaCh",
        "colab_type": "code",
        "colab": {}
      },
      "source": [
        "people_list = people_names.split(\";\")"
      ],
      "execution_count": 41,
      "outputs": []
    },
    {
      "cell_type": "code",
      "metadata": {
        "id": "pBSKZ__LirFp",
        "colab_type": "code",
        "colab": {
          "base_uri": "https://localhost:8080/",
          "height": 474
        },
        "outputId": "7312d53f-783b-4226-fcf0-e523b036d154"
      },
      "source": [
        "first_name_list =[]\n",
        "for person in people_list:\n",
        "\n",
        "  first_name = person.split(\",\")[1]\n",
        "  first_name_list.append(first_name)\n",
        "\n",
        "  print(first_name_list)"
      ],
      "execution_count": 46,
      "outputs": [
        {
          "output_type": "stream",
          "text": [
            "[' Chaojie']\n",
            "[' Chaojie', ' Arjun Reddy']\n",
            "[' Chaojie', ' Arjun Reddy', ' Jonathan']\n",
            "[' Chaojie', ' Arjun Reddy', ' Jonathan', ' Jinqing']\n",
            "[' Chaojie', ' Arjun Reddy', ' Jonathan', ' Jinqing', ' Debanjan']\n",
            "[' Chaojie', ' Arjun Reddy', ' Jonathan', ' Jinqing', ' Debanjan', ' Lori']\n",
            "[' Chaojie', ' Arjun Reddy', ' Jonathan', ' Jinqing', ' Debanjan', ' Lori', ' Neftalem']\n",
            "[' Chaojie', ' Arjun Reddy', ' Jonathan', ' Jinqing', ' Debanjan', ' Lori', ' Neftalem', ' Michaella']\n",
            "[' Chaojie', ' Arjun Reddy', ' Jonathan', ' Jinqing', ' Debanjan', ' Lori', ' Neftalem', ' Michaella', ' Shreshta']\n",
            "[' Chaojie', ' Arjun Reddy', ' Jonathan', ' Jinqing', ' Debanjan', ' Lori', ' Neftalem', ' Michaella', ' Shreshta', ' Misha']\n",
            "[' Chaojie', ' Arjun Reddy', ' Jonathan', ' Jinqing', ' Debanjan', ' Lori', ' Neftalem', ' Michaella', ' Shreshta', ' Misha', ' Scott']\n",
            "[' Chaojie', ' Arjun Reddy', ' Jonathan', ' Jinqing', ' Debanjan', ' Lori', ' Neftalem', ' Michaella', ' Shreshta', ' Misha', ' Scott', ' Masoud']\n",
            "[' Chaojie', ' Arjun Reddy', ' Jonathan', ' Jinqing', ' Debanjan', ' Lori', ' Neftalem', ' Michaella', ' Shreshta', ' Misha', ' Scott', ' Masoud', ' Jessica']\n",
            "[' Chaojie', ' Arjun Reddy', ' Jonathan', ' Jinqing', ' Debanjan', ' Lori', ' Neftalem', ' Michaella', ' Shreshta', ' Misha', ' Scott', ' Masoud', ' Jessica', ' Tchuissi']\n",
            "[' Chaojie', ' Arjun Reddy', ' Jonathan', ' Jinqing', ' Debanjan', ' Lori', ' Neftalem', ' Michaella', ' Shreshta', ' Misha', ' Scott', ' Masoud', ' Jessica', ' Tchuissi', ' Yuksel']\n",
            "[' Chaojie', ' Arjun Reddy', ' Jonathan', ' Jinqing', ' Debanjan', ' Lori', ' Neftalem', ' Michaella', ' Shreshta', ' Misha', ' Scott', ' Masoud', ' Jessica', ' Tchuissi', ' Yuksel', ' Shailesh']\n",
            "[' Chaojie', ' Arjun Reddy', ' Jonathan', ' Jinqing', ' Debanjan', ' Lori', ' Neftalem', ' Michaella', ' Shreshta', ' Misha', ' Scott', ' Masoud', ' Jessica', ' Tchuissi', ' Yuksel', ' Shailesh', ' Sai Vinay']\n",
            "[' Chaojie', ' Arjun Reddy', ' Jonathan', ' Jinqing', ' Debanjan', ' Lori', ' Neftalem', ' Michaella', ' Shreshta', ' Misha', ' Scott', ' Masoud', ' Jessica', ' Tchuissi', ' Yuksel', ' Shailesh', ' Sai Vinay', ' Liam']\n",
            "[' Chaojie', ' Arjun Reddy', ' Jonathan', ' Jinqing', ' Debanjan', ' Lori', ' Neftalem', ' Michaella', ' Shreshta', ' Misha', ' Scott', ' Masoud', ' Jessica', ' Tchuissi', ' Yuksel', ' Shailesh', ' Sai Vinay', ' Liam', ' Vishnu Priya']\n",
            "[' Chaojie', ' Arjun Reddy', ' Jonathan', ' Jinqing', ' Debanjan', ' Lori', ' Neftalem', ' Michaella', ' Shreshta', ' Misha', ' Scott', ' Masoud', ' Jessica', ' Tchuissi', ' Yuksel', ' Shailesh', ' Sai Vinay', ' Liam', ' Vishnu Priya', ' Yoshita']\n",
            "[' Chaojie', ' Arjun Reddy', ' Jonathan', ' Jinqing', ' Debanjan', ' Lori', ' Neftalem', ' Michaella', ' Shreshta', ' Misha', ' Scott', ' Masoud', ' Jessica', ' Tchuissi', ' Yuksel', ' Shailesh', ' Sai Vinay', ' Liam', ' Vishnu Priya', ' Yoshita', ' Shruthi']\n",
            "[' Chaojie', ' Arjun Reddy', ' Jonathan', ' Jinqing', ' Debanjan', ' Lori', ' Neftalem', ' Michaella', ' Shreshta', ' Misha', ' Scott', ' Masoud', ' Jessica', ' Tchuissi', ' Yuksel', ' Shailesh', ' Sai Vinay', ' Liam', ' Vishnu Priya', ' Yoshita', ' Shruthi', ' Ashreen Kaur']\n",
            "[' Chaojie', ' Arjun Reddy', ' Jonathan', ' Jinqing', ' Debanjan', ' Lori', ' Neftalem', ' Michaella', ' Shreshta', ' Misha', ' Scott', ' Masoud', ' Jessica', ' Tchuissi', ' Yuksel', ' Shailesh', ' Sai Vinay', ' Liam', ' Vishnu Priya', ' Yoshita', ' Shruthi', ' Ashreen Kaur', ' Nashika']\n",
            "[' Chaojie', ' Arjun Reddy', ' Jonathan', ' Jinqing', ' Debanjan', ' Lori', ' Neftalem', ' Michaella', ' Shreshta', ' Misha', ' Scott', ' Masoud', ' Jessica', ' Tchuissi', ' Yuksel', ' Shailesh', ' Sai Vinay', ' Liam', ' Vishnu Priya', ' Yoshita', ' Shruthi', ' Ashreen Kaur', ' Nashika', ' Ken']\n",
            "[' Chaojie', ' Arjun Reddy', ' Jonathan', ' Jinqing', ' Debanjan', ' Lori', ' Neftalem', ' Michaella', ' Shreshta', ' Misha', ' Scott', ' Masoud', ' Jessica', ' Tchuissi', ' Yuksel', ' Shailesh', ' Sai Vinay', ' Liam', ' Vishnu Priya', ' Yoshita', ' Shruthi', ' Ashreen Kaur', ' Nashika', ' Ken', ' Goutham']\n",
            "[' Chaojie', ' Arjun Reddy', ' Jonathan', ' Jinqing', ' Debanjan', ' Lori', ' Neftalem', ' Michaella', ' Shreshta', ' Misha', ' Scott', ' Masoud', ' Jessica', ' Tchuissi', ' Yuksel', ' Shailesh', ' Sai Vinay', ' Liam', ' Vishnu Priya', ' Yoshita', ' Shruthi', ' Ashreen Kaur', ' Nashika', ' Ken', ' Goutham', ' Alyssa']\n"
          ],
          "name": "stdout"
        }
      ]
    },
    {
      "cell_type": "code",
      "metadata": {
        "id": "fiBDptGoggd-",
        "colab_type": "code",
        "colab": {
          "base_uri": "https://localhost:8080/",
          "height": 34
        },
        "outputId": "fb7a7ed2-e6e2-4cb9-8c7b-ad2d4a0242e6"
      },
      "source": [
        "len(first_name_list)"
      ],
      "execution_count": 47,
      "outputs": [
        {
          "output_type": "execute_result",
          "data": {
            "text/plain": [
              "26"
            ]
          },
          "metadata": {
            "tags": []
          },
          "execution_count": 47
        }
      ]
    }
  ]
}

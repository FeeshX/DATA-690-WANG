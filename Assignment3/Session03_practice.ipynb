{
  "nbformat": 4,
  "nbformat_minor": 0,
  "metadata": {
    "colab": {
      "name": "Session03_practice.ipynb",
      "provenance": [],
      "collapsed_sections": [],
      "authorship_tag": "ABX9TyNdzqEu4DA/VdYMqftp9iRK",
      "include_colab_link": true
    },
    "kernelspec": {
      "name": "python3",
      "display_name": "Python 3"
    }
  },
  "cells": [
    {
      "cell_type": "markdown",
      "metadata": {
        "id": "view-in-github",
        "colab_type": "text"
      },
      "source": [
        "<a href=\"https://colab.research.google.com/github/FeeshX/DATA-690-WANG/blob/master/Assignment3/Session03_practice.ipynb\" target=\"_parent\"><img src=\"https://colab.research.google.com/assets/colab-badge.svg\" alt=\"Open In Colab\"/></a>"
      ]
    },
    {
      "cell_type": "markdown",
      "metadata": {
        "id": "3-km6rwTa-lA",
        "colab_type": "text"
      },
      "source": [
        "**Task**: to come up with a list of people's first name and find out how many people are in the class."
      ]
    },
    {
      "cell_type": "code",
      "metadata": {
        "id": "4fT0O47dacP5",
        "colab_type": "code",
        "colab": {
          "base_uri": "https://localhost:8080/",
          "height": 54
        },
        "outputId": "db230c5d-8ab8-4cfd-ee4d-791579cf1628"
      },
      "source": [
        "people_list = ['Wang Chaojie', 'Seelam Arjun Reddy', 'Rius Jonathan', 'Liang Jinqing', 'Chowdhury Debanjan', 'Maszkiewicz Lori', 'Negussie Neftalem', 'Steinruck Michaella', 'Phogat Shreshta', 'Fatima Misha', 'Hirabayashi Scott', 'Soroush Masoud', 'Bolz Jessica', 'Mbu Nyamsi Tchuissi', 'Dokuzoglu Yuksel', 'Gogineni Shailesh', 'Pabbisetty Sai Vinay', 'Preis Liam Jyesta', 'Vishnu Priya', 'Narne Yoshita', 'Boban Shruthi', 'Oberoi Ashreen Kaur', 'Cohens Nashika', 'Noppinger Ken', 'Kakani Goutham', 'Hayo Alyssa']\n",
        "print([x.split()[0] for x in people_list])"
      ],
      "execution_count": 19,
      "outputs": [
        {
          "output_type": "stream",
          "text": [
            "['Wang', 'Seelam', 'Rius', 'Liang', 'Chowdhury', 'Maszkiewicz', 'Negussie', 'Steinruck', 'Phogat', 'Fatima', 'Hirabayashi', 'Soroush', 'Bolz', 'Mbu', 'Dokuzoglu', 'Gogineni', 'Pabbisetty', 'Preis', 'Vishnu', 'Narne', 'Boban', 'Oberoi', 'Cohens', 'Noppinger', 'Kakani', 'Hayo']\n"
          ],
          "name": "stdout"
        }
      ]
    },
    {
      "cell_type": "code",
      "metadata": {
        "id": "eDa0gP-hayAr",
        "colab_type": "code",
        "colab": {
          "base_uri": "https://localhost:8080/",
          "height": 34
        },
        "outputId": "5363c276-025a-416a-93f7-8ab1b72ee3f7"
      },
      "source": [
        "len(people_list)"
      ],
      "execution_count": 20,
      "outputs": [
        {
          "output_type": "execute_result",
          "data": {
            "text/plain": [
              "26"
            ]
          },
          "metadata": {
            "tags": []
          },
          "execution_count": 20
        }
      ]
    }
  ]
}
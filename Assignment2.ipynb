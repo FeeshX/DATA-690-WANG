{
  "nbformat": 4,
  "nbformat_minor": 0,
  "metadata": {
    "kernelspec": {
      "display_name": "Python 3",
      "language": "python",
      "name": "python3"
    },
    "language_info": {
      "codemirror_mode": {
        "name": "ipython",
        "version": 3
      },
      "file_extension": ".py",
      "mimetype": "text/x-python",
      "name": "python",
      "nbconvert_exporter": "python",
      "pygments_lexer": "ipython3",
      "version": "3.7.4"
    },
    "colab": {
      "name": "Assignment2",
      "provenance": [],
      "collapsed_sections": [],
      "include_colab_link": true
    }
  },
  "cells": [
    {
      "cell_type": "markdown",
      "metadata": {
        "id": "view-in-github",
        "colab_type": "text"
      },
      "source": [
        "<a href=\"https://colab.research.google.com/github/FeeshX/DATA-690-WANG/blob/master/Assignment2.ipynb\" target=\"_parent\"><img src=\"https://colab.research.google.com/assets/colab-badge.svg\" alt=\"Open In Colab\"/></a>"
      ]
    },
    {
      "cell_type": "code",
      "metadata": {
        "id": "HOiiF6bR8FiV",
        "colab_type": "code",
        "colab": {
          "base_uri": "https://localhost:8080/",
          "height": 204
        },
        "outputId": "88ac7861-49bd-452d-e3db-1cadd9c5f10a"
      },
      "source": [
        "#STEP 1: Prompts a user to enter 10 integers\n",
        "\n",
        "#Creates an empty list\n",
        "list1 = []\n",
        "\n",
        "# Calls for a loop that keeps executing until 10 integers have been entered\n",
        "# or until an exception occurs\n",
        "while True:\n",
        "    try:\n",
        "      num = int(input('Enter Number:'))\n",
        "      list1.append(num)\n",
        "    # If something else that is not the string\n",
        "    # version of a number is introduced, the\n",
        "    # ValueError exception will be called\n",
        "    except ValueError:\n",
        "      print(\"Invalid Entry.You must enter an Integer Value only\")\n",
        "      continue\n",
        "    if len(list1) == 10:\n",
        "      #When succesful the loop will end.\n",
        "      break\n",
        "  \n",
        "print(list1)"
      ],
      "execution_count": 1,
      "outputs": [
        {
          "output_type": "stream",
          "text": [
            "Enter Number:1\n",
            "Enter Number:34\n",
            "Enter Number:6\n",
            "Enter Number:23\n",
            "Enter Number:7\n",
            "Enter Number:34\n",
            "Enter Number:65\n",
            "Enter Number:3\n",
            "Enter Number:5\n",
            "Enter Number:76\n",
            "[1, 34, 6, 23, 7, 34, 65, 3, 5, 76]\n"
          ],
          "name": "stdout"
        }
      ]
    },
    {
      "cell_type": "code",
      "metadata": {
        "id": "os1p1Eni8Fid",
        "colab_type": "code",
        "colab": {
          "base_uri": "https://localhost:8080/",
          "height": 119
        },
        "outputId": "4883f1d8-14ad-4368-9d9d-8ab75524226a"
      },
      "source": [
        "#STEP 2: Calcuate Descriptive Stats for list1\n",
        "\n",
        "#a. Define Variance function for later use\n",
        "def varx(list1, _Mean):\n",
        "    sum = 0\n",
        "    for num in list1:\n",
        "        difference = num - _Mean\n",
        "        square = difference ** 2\n",
        "        sum = sum + square\n",
        "        var = sum / (len(list1) - 1)\n",
        "    return var\n",
        "\n",
        "#b. Minimum\n",
        "Min = min(list1)\n",
        "print(\"Min:\", Min)\n",
        "\n",
        "#c. Maximum\n",
        "Max = max(list1)\n",
        "print(\"Max:\", Max)\n",
        "\n",
        "#d. Range\n",
        "Range = Max - Min\n",
        "print(\"Range:\", Range)\n",
        "\n",
        "#e. Mean\n",
        "_Mean = sum(list1) / len(list1)\n",
        "print(\"Mean:\", _Mean)\n",
        "\n",
        "#f. Standard Deviation\n",
        "v = varx(list1, _Mean)\n",
        "print(\"Variance:\", v)\n",
        "\n",
        "SD = v ** 0.5\n",
        "print(\"Standard Deviation:\", SD)"
      ],
      "execution_count": 10,
      "outputs": [
        {
          "output_type": "stream",
          "text": [
            "Min: 1\n",
            "Max: 76\n",
            "Range: 75\n",
            "Mean: 25.4\n",
            "Variance: 723.3777777777777\n",
            "Standard Deviation: 26.895683255455285\n"
          ],
          "name": "stdout"
        }
      ]
    }
  ]
}
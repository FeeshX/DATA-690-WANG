{
  "nbformat": 4,
  "nbformat_minor": 0,
  "metadata": {
    "colab": {
      "name": "Assignment4_hwk.ipynb",
      "provenance": [],
      "collapsed_sections": [],
      "mount_file_id": "1cSraQUVgd4yjTFrE9eShUFJy5li5yTUg",
      "authorship_tag": "ABX9TyMb9JkdgDLDFn+6XYcAOUlx",
      "include_colab_link": true
    },
    "kernelspec": {
      "name": "python3",
      "display_name": "Python 3"
    }
  },
  "cells": [
    {
      "cell_type": "markdown",
      "metadata": {
        "id": "view-in-github",
        "colab_type": "text"
      },
      "source": [
        "<a href=\"https://colab.research.google.com/github/FeeshX/DATA-690-WANG/blob/master/Assignment4/Assignment4_hwk.ipynb\" target=\"_parent\"><img src=\"https://colab.research.google.com/assets/colab-badge.svg\" alt=\"Open In Colab\"/></a>"
      ]
    },
    {
      "cell_type": "markdown",
      "metadata": {
        "id": "6vs0ObkMs_zA",
        "colab_type": "text"
      },
      "source": [
        "**Exercise**\n",
        "\n",
        "The task involves Data Cleansing for a text file on Census Cost data."
      ]
    },
    {
      "cell_type": "code",
      "metadata": {
        "id": "xJ3EaXyyt2mQ",
        "colab_type": "code",
        "colab": {
          "base_uri": "https://localhost:8080/",
          "height": 34
        },
        "outputId": "5198b55a-9b3c-4c6d-d291-efe52747068d"
      },
      "source": [
        "#Mounting data file from local Google Drive\n",
        "from google.colab import drive\n",
        "drive.mount(\"/content/drive\")"
      ],
      "execution_count": null,
      "outputs": [
        {
          "output_type": "stream",
          "text": [
            "Drive already mounted at /content/drive; to attempt to forcibly remount, call drive.mount(\"/content/drive\", force_remount=True).\n"
          ],
          "name": "stdout"
        }
      ]
    },
    {
      "cell_type": "code",
      "metadata": {
        "id": "8owlnugCyVvy",
        "colab_type": "code",
        "colab": {
          "base_uri": "https://localhost:8080/",
          "height": 857
        },
        "outputId": "d17bac12-e99b-4cb0-c2c8-3a5df9c76130"
      },
      "source": [
        "#Write code to open the text file census_cost.txt and read all lines into a list named \"line_list\". Print line_list.\n",
        "with open(\"/content/drive/My Drive/census_cost.txt\", \"rt\") as f:\n",
        "    line_list = f.readlines()\n",
        "\n",
        "for row in line_list:\n",
        "  print(row)"
      ],
      "execution_count": null,
      "outputs": [
        {
          "output_type": "stream",
          "text": [
            "Source: https://www.genealogybranches.com/censuscosts.html\n",
            "\n",
            "Census Year\tTotal Population\tCensus Cost\tAverage Cost Per Person\n",
            "\n",
            "1790\t3,929,214\t$44,377\t1.13 cents\n",
            "\n",
            "1800\t5,308,483\t$66,109\t1.24 cents\n",
            "\n",
            "1810\t7,239,881\t$178,445\t2.46 cents\n",
            "\n",
            "1820\t9,633,822\t$208,526\t2.16 cents\n",
            "\n",
            "1830\t12,866,020\t$378,545\t2.94 cents\n",
            "\n",
            "1840\t17,069,458\t$833,371\t4.88 cents\n",
            "\n",
            "1850\t23,191,876\t$1,423,351\t6.14 cents\n",
            "\n",
            "1860\t31,443,321\t$1,969,377\t6.26 cents\n",
            "\n",
            "1870\t38,558,371\t$3,421,198\t8.87 cents\n",
            "\n",
            "1880\t50,155,783\t$5,790,678\t11.54 cents\n",
            "\n",
            "1890\t62,979,766\t$11,547,127\t18.33 cents\n",
            "\n",
            "1900\t76,303,387\t$11,854,000\t15.54 cents\n",
            "\n",
            "1910\t91,972,266\t$15,968,000\t17.07 cents\n",
            "\n",
            "1920\t105,710,620\t$25,117,000\t23.76 cents\n",
            "\n",
            "1930\t122,775,046\t$40,156,000\t32.71 cents\n",
            "\n",
            "1940\t131,669,275\t$67,527,000\t51.29 cents\n",
            "\n",
            "1950\t151,325,798\t$91,462,000\t60.44 cents\n",
            "\n",
            "1960\t179,323,175\t$127,934,000\t71.34 cents\n",
            "\n",
            "1970\t203,302,031\t$247,653,000\t$1.22\n",
            "\n",
            "1980\t226,542,199\t$1,078,488,000\t$4.76\n",
            "\n",
            "1990\t248,718,301\t$2,492,830,000\t$10.02\n",
            "\n",
            "2000\t281,421,906\t$4.5 Billion\t$15.99\n",
            "\n",
            "2010*\t308,745,538\t$13 Billion\t$42.11\n"
          ],
          "name": "stdout"
        }
      ]
    },
    {
      "cell_type": "code",
      "metadata": {
        "id": "ZrgZcXwbcxVK",
        "colab_type": "code",
        "colab": {
          "base_uri": "https://localhost:8080/",
          "height": 51
        },
        "outputId": "a2cbca6c-83b4-4f8b-a3bd-aca6c3a76a93"
      },
      "source": [
        "#Extract the first two lines and put them in a different list named \"top2_list\". You will need to use them later. Print the top2_list.\n",
        "top2_list = line_list[0:1]\n",
        "for row in top2_list:\n",
        "  print(row)"
      ],
      "execution_count": null,
      "outputs": [
        {
          "output_type": "stream",
          "text": [
            "Source: https://www.genealogybranches.com/censuscosts.html\n",
            "\n"
          ],
          "name": "stdout"
        }
      ]
    },
    {
      "cell_type": "code",
      "metadata": {
        "id": "Ez-1udK6p67n",
        "colab_type": "code",
        "colab": {
          "base_uri": "https://localhost:8080/",
          "height": 754
        },
        "outputId": "21aa979f-87f8-4924-c54a-1effdedc7657"
      },
      "source": [
        "#Put the rest of the lines (containing useful data elements) in a new list named \"data_list\". Print data_list.\n",
        "data_list = line_list[3:25]\n",
        "for row in data_list:\n",
        "  print(row)"
      ],
      "execution_count": null,
      "outputs": [
        {
          "output_type": "stream",
          "text": [
            "1800\t5,308,483\t$66,109\t1.24 cents\n",
            "\n",
            "1810\t7,239,881\t$178,445\t2.46 cents\n",
            "\n",
            "1820\t9,633,822\t$208,526\t2.16 cents\n",
            "\n",
            "1830\t12,866,020\t$378,545\t2.94 cents\n",
            "\n",
            "1840\t17,069,458\t$833,371\t4.88 cents\n",
            "\n",
            "1850\t23,191,876\t$1,423,351\t6.14 cents\n",
            "\n",
            "1860\t31,443,321\t$1,969,377\t6.26 cents\n",
            "\n",
            "1870\t38,558,371\t$3,421,198\t8.87 cents\n",
            "\n",
            "1880\t50,155,783\t$5,790,678\t11.54 cents\n",
            "\n",
            "1890\t62,979,766\t$11,547,127\t18.33 cents\n",
            "\n",
            "1900\t76,303,387\t$11,854,000\t15.54 cents\n",
            "\n",
            "1910\t91,972,266\t$15,968,000\t17.07 cents\n",
            "\n",
            "1920\t105,710,620\t$25,117,000\t23.76 cents\n",
            "\n",
            "1930\t122,775,046\t$40,156,000\t32.71 cents\n",
            "\n",
            "1940\t131,669,275\t$67,527,000\t51.29 cents\n",
            "\n",
            "1950\t151,325,798\t$91,462,000\t60.44 cents\n",
            "\n",
            "1960\t179,323,175\t$127,934,000\t71.34 cents\n",
            "\n",
            "1970\t203,302,031\t$247,653,000\t$1.22\n",
            "\n",
            "1980\t226,542,199\t$1,078,488,000\t$4.76\n",
            "\n",
            "1990\t248,718,301\t$2,492,830,000\t$10.02\n",
            "\n",
            "2000\t281,421,906\t$4.5 Billion\t$15.99\n",
            "\n",
            "2010*\t308,745,538\t$13 Billion\t$42.11\n"
          ],
          "name": "stdout"
        }
      ]
    },
    {
      "cell_type": "code",
      "metadata": {
        "id": "0fiTHXopBtV1",
        "colab_type": "code",
        "colab": {
          "base_uri": "https://localhost:8080/",
          "height": 54
        },
        "outputId": "79daf967-d056-4447-9ac6-ea2613e3879c"
      },
      "source": [
        "#Extract the column **\"Census Year\"** from data_list and assign them to a list named **year_list**. \n",
        "\n",
        "year = open('/content/drive/My Drive/census_cost.txt','r')\n",
        "line_list=year.readlines()\n",
        "\n",
        "year_column_number = 0\n",
        "censusyear = []\n",
        "for x in data_list:\n",
        "    censusyear.append(x.split()[year_column_number])\n",
        "year.close()\n",
        "\n",
        "#Remove the \"*\" from the last element \"2010*\". Print the cleansed year_list.\n",
        "censusyear = ([s.strip('*') for s in censusyear])\n",
        "print(censusyear)"
      ],
      "execution_count": null,
      "outputs": [
        {
          "output_type": "stream",
          "text": [
            "['1800', '1810', '1820', '1830', '1840', '1850', '1860', '1870', '1880', '1890', '1900', '1910', '1920', '1930', '1940', '1950', '1960', '1970', '1980', '1990', '2000', '2010']\n"
          ],
          "name": "stdout"
        }
      ]
    },
    {
      "cell_type": "code",
      "metadata": {
        "id": "Q3jdAaSyNwoV",
        "colab_type": "code",
        "colab": {
          "base_uri": "https://localhost:8080/",
          "height": 54
        },
        "outputId": "77cb291c-6f72-47a4-85a5-c5dabea477ef"
      },
      "source": [
        "#Extract the **\"Total Population\"** column from the data_list and assign them to a list named **\"pop_list\"**. \n",
        "year_column_number = 1\n",
        "pop_list = []\n",
        "for x in data_list:\n",
        "    pop_list.append(x.split()[year_column_number])\n",
        "year.close()\n",
        "\n",
        "#Remove the \",\" from the numbers since Python doesn't recognize them. Print the cleansed \"pop_list\".\n",
        "pop_list = ([s.replace(',', '') for s in pop_list])\n",
        "print(pop_list)"
      ],
      "execution_count": null,
      "outputs": [
        {
          "output_type": "stream",
          "text": [
            "['5308483', '7239881', '9633822', '12866020', '17069458', '23191876', '31443321', '38558371', '50155783', '62979766', '76303387', '91972266', '105710620', '122775046', '131669275', '151325798', '179323175', '203302031', '226542199', '248718301', '281421906', '308745538']\n"
          ],
          "name": "stdout"
        }
      ]
    },
    {
      "cell_type": "code",
      "metadata": {
        "id": "YCGUfCuoP2Vj",
        "colab_type": "code",
        "colab": {
          "base_uri": "https://localhost:8080/",
          "height": 71
        },
        "outputId": "d2e11f9a-f39b-4420-a433-ff982ca7ceaa"
      },
      "source": [
        "#Extract the **\"Census Cost\"** column from the data_list and assign them to a list named **\"cost_list\"**. \n",
        "year_column_number = 2\n",
        "cost_list = []\n",
        "for x in data_list:\n",
        "    cost_list.append(x.split()[year_column_number])\n",
        "year.close()\n",
        "\n",
        "#Remove the \",\", and \"$\", and \"Billion\".\n",
        "cost_list = ([s.replace(',', '') for s in cost_list])\n",
        "cost_list = ([s.replace('$', '') for s in cost_list])\n",
        "cost_list = ([s.replace('Billion', '') for s in cost_list]) \n",
        "print(cost_list)\n",
        "\n",
        "#Make sure to add the \"0\"s to the numbers from which you removed \"Billion\". Print the cleansed cost_list\n",
        "cost_list[-1] = \"13000000000\"\n",
        "cost_list[-2] = \"4500000000\"\n",
        "print(cost_list)"
      ],
      "execution_count": null,
      "outputs": [
        {
          "output_type": "stream",
          "text": [
            "['66109', '178445', '208526', '378545', '833371', '1423351', '1969377', '3421198', '5790678', '11547127', '11854000', '15968000', '25117000', '40156000', '67527000', '91462000', '127934000', '247653000', '1078488000', '2492830000', '4.5', '13']\n",
            "['66109', '178445', '208526', '378545', '833371', '1423351', '1969377', '3421198', '5790678', '11547127', '11854000', '15968000', '25117000', '40156000', '67527000', '91462000', '127934000', '247653000', '1078488000', '2492830000', '4500000000', '13000000000']\n"
          ],
          "name": "stdout"
        }
      ]
    },
    {
      "cell_type": "code",
      "metadata": {
        "id": "SuIwwZbSTtzD",
        "colab_type": "code",
        "colab": {
          "base_uri": "https://localhost:8080/",
          "height": 377
        },
        "outputId": "41e70ed4-694d-4483-fff1-ac75f194e214"
      },
      "source": [
        "#Extract the **\"Average Cost per Person\"** column from the data_list and assign them to a list named **\"avg_list\"**. \n",
        "year_column_number = 3\n",
        "avg_list = []\n",
        "for x in data_list:\n",
        "    avg_list.append(x.split()[year_column_number])\n",
        "year.close()\n",
        "\n",
        "#Remove the \"cents\", and \"$\".\n",
        "avg_list = ([s.replace('cents', '') for s in avg_list])\n",
        "avg_list = ([s.replace('$', '') for s in avg_list])\n",
        "avg_list[-1] = \"15.99\"\n",
        "avg_list[-2] = \"42.11\"\n",
        "\n",
        "#Make sure to divide the numbers in cents by 100 so that all numbers are measured in dollar. Print the cleansed avg_list.\n",
        "avg_list = [float(i) for i in avg_list]\n",
        "dollar_values = avg_list[17:22]\n",
        "\n",
        "avg_list = [i/100 for i in avg_list[0:16]] + dollar_values\n",
        "avg_list"
      ],
      "execution_count": null,
      "outputs": [
        {
          "output_type": "execute_result",
          "data": {
            "text/plain": [
              "[0.0124,\n",
              " 0.0246,\n",
              " 0.0216,\n",
              " 0.0294,\n",
              " 0.048799999999999996,\n",
              " 0.061399999999999996,\n",
              " 0.0626,\n",
              " 0.08869999999999999,\n",
              " 0.11539999999999999,\n",
              " 0.1833,\n",
              " 0.15539999999999998,\n",
              " 0.1707,\n",
              " 0.2376,\n",
              " 0.3271,\n",
              " 0.5129,\n",
              " 0.6043999999999999,\n",
              " 1.22,\n",
              " 4.76,\n",
              " 10.02,\n",
              " 42.11,\n",
              " 15.99]"
            ]
          },
          "metadata": {
            "tags": []
          },
          "execution_count": 8
        }
      ]
    },
    {
      "cell_type": "code",
      "metadata": {
        "id": "0SBJ--Qujt_l",
        "colab_type": "code",
        "colab": {
          "base_uri": "https://localhost:8080/",
          "height": 394
        },
        "outputId": "6e8b6c78-6c7a-4fb2-a2ea-19b7a0388da1"
      },
      "source": [
        "#Coalesce the cleansed data and save them to a text file named \"census_cost.csv\". The new file should look similar to the original source file except that it is in comma-delimited format and the numbers have been cleansed\n",
        "import pandas as pd\n",
        "df = pd.DataFrame(list(zip(censusyear, pop_list, cost_list, avg_list)),\n",
        "              columns=['Census Year','Total Population', 'Census Cost', 'Average Cost per Person'])\n",
        "\n",
        "print(df)"
      ],
      "execution_count": null,
      "outputs": [
        {
          "output_type": "stream",
          "text": [
            "   Census Year Total Population Census Cost  Average Cost per Person\n",
            "0         1800          5308483       66109                   0.0124\n",
            "1         1810          7239881      178445                   0.0246\n",
            "2         1820          9633822      208526                   0.0216\n",
            "3         1830         12866020      378545                   0.0294\n",
            "4         1840         17069458      833371                   0.0488\n",
            "5         1850         23191876     1423351                   0.0614\n",
            "6         1860         31443321     1969377                   0.0626\n",
            "7         1870         38558371     3421198                   0.0887\n",
            "8         1880         50155783     5790678                   0.1154\n",
            "9         1890         62979766    11547127                   0.1833\n",
            "10        1900         76303387    11854000                   0.1554\n",
            "11        1910         91972266    15968000                   0.1707\n",
            "12        1920        105710620    25117000                   0.2376\n",
            "13        1930        122775046    40156000                   0.3271\n",
            "14        1940        131669275    67527000                   0.5129\n",
            "15        1950        151325798    91462000                   0.6044\n",
            "16        1960        179323175   127934000                   1.2200\n",
            "17        1970        203302031   247653000                   4.7600\n",
            "18        1980        226542199  1078488000                  10.0200\n",
            "19        1990        248718301  2492830000                  42.1100\n",
            "20        2000        281421906  4500000000                  15.9900\n"
          ],
          "name": "stdout"
        }
      ]
    },
    {
      "cell_type": "code",
      "metadata": {
        "id": "7UNyv-1Tm2t3",
        "colab_type": "code",
        "colab": {
          "base_uri": "https://localhost:8080/",
          "height": 727
        },
        "outputId": "fdc2d2c6-172c-480c-da49-2a716866ead7"
      },
      "source": [
        "df.loc[-1] = [top2_list,'','','']\n",
        "df"
      ],
      "execution_count": null,
      "outputs": [
        {
          "output_type": "execute_result",
          "data": {
            "text/html": [
              "<div>\n",
              "<style scoped>\n",
              "    .dataframe tbody tr th:only-of-type {\n",
              "        vertical-align: middle;\n",
              "    }\n",
              "\n",
              "    .dataframe tbody tr th {\n",
              "        vertical-align: top;\n",
              "    }\n",
              "\n",
              "    .dataframe thead th {\n",
              "        text-align: right;\n",
              "    }\n",
              "</style>\n",
              "<table border=\"1\" class=\"dataframe\">\n",
              "  <thead>\n",
              "    <tr style=\"text-align: right;\">\n",
              "      <th></th>\n",
              "      <th>Census Year</th>\n",
              "      <th>Total Population</th>\n",
              "      <th>Census Cost</th>\n",
              "      <th>Average Cost per Person</th>\n",
              "    </tr>\n",
              "  </thead>\n",
              "  <tbody>\n",
              "    <tr>\n",
              "      <th>0</th>\n",
              "      <td>1800</td>\n",
              "      <td>5308483</td>\n",
              "      <td>66109</td>\n",
              "      <td>0.0124</td>\n",
              "    </tr>\n",
              "    <tr>\n",
              "      <th>1</th>\n",
              "      <td>1810</td>\n",
              "      <td>7239881</td>\n",
              "      <td>178445</td>\n",
              "      <td>0.0246</td>\n",
              "    </tr>\n",
              "    <tr>\n",
              "      <th>2</th>\n",
              "      <td>1820</td>\n",
              "      <td>9633822</td>\n",
              "      <td>208526</td>\n",
              "      <td>0.0216</td>\n",
              "    </tr>\n",
              "    <tr>\n",
              "      <th>3</th>\n",
              "      <td>1830</td>\n",
              "      <td>12866020</td>\n",
              "      <td>378545</td>\n",
              "      <td>0.0294</td>\n",
              "    </tr>\n",
              "    <tr>\n",
              "      <th>4</th>\n",
              "      <td>1840</td>\n",
              "      <td>17069458</td>\n",
              "      <td>833371</td>\n",
              "      <td>0.0488</td>\n",
              "    </tr>\n",
              "    <tr>\n",
              "      <th>5</th>\n",
              "      <td>1850</td>\n",
              "      <td>23191876</td>\n",
              "      <td>1423351</td>\n",
              "      <td>0.0614</td>\n",
              "    </tr>\n",
              "    <tr>\n",
              "      <th>6</th>\n",
              "      <td>1860</td>\n",
              "      <td>31443321</td>\n",
              "      <td>1969377</td>\n",
              "      <td>0.0626</td>\n",
              "    </tr>\n",
              "    <tr>\n",
              "      <th>7</th>\n",
              "      <td>1870</td>\n",
              "      <td>38558371</td>\n",
              "      <td>3421198</td>\n",
              "      <td>0.0887</td>\n",
              "    </tr>\n",
              "    <tr>\n",
              "      <th>8</th>\n",
              "      <td>1880</td>\n",
              "      <td>50155783</td>\n",
              "      <td>5790678</td>\n",
              "      <td>0.1154</td>\n",
              "    </tr>\n",
              "    <tr>\n",
              "      <th>9</th>\n",
              "      <td>1890</td>\n",
              "      <td>62979766</td>\n",
              "      <td>11547127</td>\n",
              "      <td>0.1833</td>\n",
              "    </tr>\n",
              "    <tr>\n",
              "      <th>10</th>\n",
              "      <td>1900</td>\n",
              "      <td>76303387</td>\n",
              "      <td>11854000</td>\n",
              "      <td>0.1554</td>\n",
              "    </tr>\n",
              "    <tr>\n",
              "      <th>11</th>\n",
              "      <td>1910</td>\n",
              "      <td>91972266</td>\n",
              "      <td>15968000</td>\n",
              "      <td>0.1707</td>\n",
              "    </tr>\n",
              "    <tr>\n",
              "      <th>12</th>\n",
              "      <td>1920</td>\n",
              "      <td>105710620</td>\n",
              "      <td>25117000</td>\n",
              "      <td>0.2376</td>\n",
              "    </tr>\n",
              "    <tr>\n",
              "      <th>13</th>\n",
              "      <td>1930</td>\n",
              "      <td>122775046</td>\n",
              "      <td>40156000</td>\n",
              "      <td>0.3271</td>\n",
              "    </tr>\n",
              "    <tr>\n",
              "      <th>14</th>\n",
              "      <td>1940</td>\n",
              "      <td>131669275</td>\n",
              "      <td>67527000</td>\n",
              "      <td>0.5129</td>\n",
              "    </tr>\n",
              "    <tr>\n",
              "      <th>15</th>\n",
              "      <td>1950</td>\n",
              "      <td>151325798</td>\n",
              "      <td>91462000</td>\n",
              "      <td>0.6044</td>\n",
              "    </tr>\n",
              "    <tr>\n",
              "      <th>16</th>\n",
              "      <td>1960</td>\n",
              "      <td>179323175</td>\n",
              "      <td>127934000</td>\n",
              "      <td>1.22</td>\n",
              "    </tr>\n",
              "    <tr>\n",
              "      <th>17</th>\n",
              "      <td>1970</td>\n",
              "      <td>203302031</td>\n",
              "      <td>247653000</td>\n",
              "      <td>4.76</td>\n",
              "    </tr>\n",
              "    <tr>\n",
              "      <th>18</th>\n",
              "      <td>1980</td>\n",
              "      <td>226542199</td>\n",
              "      <td>1078488000</td>\n",
              "      <td>10.02</td>\n",
              "    </tr>\n",
              "    <tr>\n",
              "      <th>19</th>\n",
              "      <td>1990</td>\n",
              "      <td>248718301</td>\n",
              "      <td>2492830000</td>\n",
              "      <td>42.11</td>\n",
              "    </tr>\n",
              "    <tr>\n",
              "      <th>20</th>\n",
              "      <td>2000</td>\n",
              "      <td>281421906</td>\n",
              "      <td>4500000000</td>\n",
              "      <td>15.99</td>\n",
              "    </tr>\n",
              "    <tr>\n",
              "      <th>-1</th>\n",
              "      <td>[Source: https://www.genealogybranches.com/cen...</td>\n",
              "      <td></td>\n",
              "      <td></td>\n",
              "      <td></td>\n",
              "    </tr>\n",
              "  </tbody>\n",
              "</table>\n",
              "</div>"
            ],
            "text/plain": [
              "                                           Census Year  ... Average Cost per Person\n",
              " 0                                                1800  ...                  0.0124\n",
              " 1                                                1810  ...                  0.0246\n",
              " 2                                                1820  ...                  0.0216\n",
              " 3                                                1830  ...                  0.0294\n",
              " 4                                                1840  ...                  0.0488\n",
              " 5                                                1850  ...                  0.0614\n",
              " 6                                                1860  ...                  0.0626\n",
              " 7                                                1870  ...                  0.0887\n",
              " 8                                                1880  ...                  0.1154\n",
              " 9                                                1890  ...                  0.1833\n",
              " 10                                               1900  ...                  0.1554\n",
              " 11                                               1910  ...                  0.1707\n",
              " 12                                               1920  ...                  0.2376\n",
              " 13                                               1930  ...                  0.3271\n",
              " 14                                               1940  ...                  0.5129\n",
              " 15                                               1950  ...                  0.6044\n",
              " 16                                               1960  ...                    1.22\n",
              " 17                                               1970  ...                    4.76\n",
              " 18                                               1980  ...                   10.02\n",
              " 19                                               1990  ...                   42.11\n",
              " 20                                               2000  ...                   15.99\n",
              "-1   [Source: https://www.genealogybranches.com/cen...  ...                        \n",
              "\n",
              "[22 rows x 4 columns]"
            ]
          },
          "metadata": {
            "tags": []
          },
          "execution_count": 75
        }
      ]
    },
    {
      "cell_type": "code",
      "metadata": {
        "id": "_TmtoT6KqZ-a",
        "colab_type": "code",
        "colab": {
          "base_uri": "https://localhost:8080/",
          "height": 445
        },
        "outputId": "db27545e-a93e-42e9-e5c8-d2c0069ff845"
      },
      "source": [
        "df.to_csv (r'/content/drive/My Drive/census_cost2.txt', index = False, header=True)\n",
        "print (df)"
      ],
      "execution_count": null,
      "outputs": [
        {
          "output_type": "stream",
          "text": [
            "                                           Census Year  ... Average Cost per Person\n",
            " 0                                                1800  ...                  0.0124\n",
            " 1                                                1810  ...                  0.0246\n",
            " 2                                                1820  ...                  0.0216\n",
            " 3                                                1830  ...                  0.0294\n",
            " 4                                                1840  ...                  0.0488\n",
            " 5                                                1850  ...                  0.0614\n",
            " 6                                                1860  ...                  0.0626\n",
            " 7                                                1870  ...                  0.0887\n",
            " 8                                                1880  ...                  0.1154\n",
            " 9                                                1890  ...                  0.1833\n",
            " 10                                               1900  ...                  0.1554\n",
            " 11                                               1910  ...                  0.1707\n",
            " 12                                               1920  ...                  0.2376\n",
            " 13                                               1930  ...                  0.3271\n",
            " 14                                               1940  ...                  0.5129\n",
            " 15                                               1950  ...                  0.6044\n",
            " 16                                               1960  ...                    1.22\n",
            " 17                                               1970  ...                    4.76\n",
            " 18                                               1980  ...                   10.02\n",
            " 19                                               1990  ...                   42.11\n",
            " 20                                               2000  ...                   15.99\n",
            "-1   [Source: https://www.genealogybranches.com/cen...  ...                        \n",
            "\n",
            "[22 rows x 4 columns]\n"
          ],
          "name": "stdout"
        }
      ]
    },
    {
      "cell_type": "code",
      "metadata": {
        "id": "g6tUGkCcrXO7",
        "colab_type": "code",
        "colab": {
          "base_uri": "https://localhost:8080/",
          "height": 805
        },
        "outputId": "94b6e453-012b-4220-f64d-6e752c583b79"
      },
      "source": [
        "#Open the newly-created file \"census_cost.csv\", read all lines and display them.\n",
        "with open(\"/content/drive/My Drive/census_cost2.txt\", \"rt\") as j:\n",
        "    line_list2 = j.readlines()\n",
        "\n",
        "for row in line_list2:\n",
        "  print(row)"
      ],
      "execution_count": null,
      "outputs": [
        {
          "output_type": "stream",
          "text": [
            "Census Year,Total Population,Census Cost,Average Cost per Person\n",
            "\n",
            "1800,5308483,66109,0.0124\n",
            "\n",
            "1810,7239881,178445,0.0246\n",
            "\n",
            "1820,9633822,208526,0.0216\n",
            "\n",
            "1830,12866020,378545,0.0294\n",
            "\n",
            "1840,17069458,833371,0.048799999999999996\n",
            "\n",
            "1850,23191876,1423351,0.061399999999999996\n",
            "\n",
            "1860,31443321,1969377,0.0626\n",
            "\n",
            "1870,38558371,3421198,0.08869999999999999\n",
            "\n",
            "1880,50155783,5790678,0.11539999999999999\n",
            "\n",
            "1890,62979766,11547127,0.1833\n",
            "\n",
            "1900,76303387,11854000,0.15539999999999998\n",
            "\n",
            "1910,91972266,15968000,0.1707\n",
            "\n",
            "1920,105710620,25117000,0.2376\n",
            "\n",
            "1930,122775046,40156000,0.3271\n",
            "\n",
            "1940,131669275,67527000,0.5129\n",
            "\n",
            "1950,151325798,91462000,0.6043999999999999\n",
            "\n",
            "1960,179323175,127934000,1.22\n",
            "\n",
            "1970,203302031,247653000,4.76\n",
            "\n",
            "1980,226542199,1078488000,10.02\n",
            "\n",
            "1990,248718301,2492830000,42.11\n",
            "\n",
            "2000,281421906,4500000000,15.99\n",
            "\n",
            "['Source: https://www.genealogybranches.com/censuscosts.html\\n'],,,\n",
            "\n"
          ],
          "name": "stdout"
        }
      ]
    }
  ]
}
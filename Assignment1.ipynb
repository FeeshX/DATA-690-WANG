{
  "nbformat": 4,
  "nbformat_minor": 0,
  "metadata": {
    "colab": {
      "name": "Practice-01.ipynb",
      "provenance": [],
      "authorship_tag": "ABX9TyOi7gF3nk6nCGfhOPrjSbtk",
      "include_colab_link": true
    },
    "kernelspec": {
      "name": "python3",
      "display_name": "Python 3"
    }
  },
  "cells": [
    {
      "cell_type": "markdown",
      "metadata": {
        "id": "view-in-github",
        "colab_type": "text"
      },
      "source": [
        "<a href=\"https://colab.research.google.com/github/FeeshX/DATA-690-WANG/blob/master/Practice_01.ipynb\" target=\"_parent\"><img src=\"https://colab.research.google.com/assets/colab-badge.svg\" alt=\"Open In Colab\"/></a>"
      ]
    },
    {
      "cell_type": "code",
      "metadata": {
        "id": "87K1hDUb8AAn",
        "colab_type": "code",
        "colab": {
          "base_uri": "https://localhost:8080/",
          "height": 35
        },
        "outputId": "93cd56ae-0645-4242-ccaf-deff43ba009c"
      },
      "source": [
        "#Defining a variable called \"a\" \n",
        "a = 5\n",
        "print(a)"
      ],
      "execution_count": 7,
      "outputs": [
        {
          "output_type": "stream",
          "text": [
            "5\n"
          ],
          "name": "stdout"
        }
      ]
    },
    {
      "cell_type": "code",
      "metadata": {
        "id": "aD8u0D1h8UQ1",
        "colab_type": "code",
        "colab": {
          "base_uri": "https://localhost:8080/",
          "height": 35
        },
        "outputId": "e631c772-bf66-4ee8-f4f9-c644d2216326"
      },
      "source": [
        "#Printing 'Hello world'"
      ],
      "execution_count": 9,
      "outputs": [
        {
          "output_type": "stream",
          "text": [
            "Hello world\n"
          ],
          "name": "stdout"
        }
      ]
    },
    {
      "cell_type": "code",
      "metadata": {
        "id": "kiPZPB168n6g",
        "colab_type": "code",
        "colab": {
          "base_uri": "https://localhost:8080/",
          "height": 139
        },
        "outputId": "722400a2-f8d7-43c7-9ad1-55160bdd6e00"
      },
      "source": [
        "#Creating a variable labeled data with seven random floats\n",
        "import numpy as np\n",
        "data = {i:np.random.randn() for i in range(7)}\n",
        "data"
      ],
      "execution_count": 13,
      "outputs": [
        {
          "output_type": "execute_result",
          "data": {
            "text/plain": [
              "{0: -1.0606169175885451,\n",
              " 1: -0.37930060453158226,\n",
              " 2: -0.4148543719237267,\n",
              " 3: -0.35035034925115,\n",
              " 4: -0.8428630445017379,\n",
              " 5: 1.2002562645247774,\n",
              " 6: 0.2515352026221214}"
            ]
          },
          "metadata": {
            "tags": []
          },
          "execution_count": 13
        }
      ]
    },
    {
      "cell_type": "code",
      "metadata": {
        "id": "AKg0HXxp9Vnw",
        "colab_type": "code",
        "colab": {
          "base_uri": "https://localhost:8080/",
          "height": 55
        },
        "outputId": "d3a57d40-3d58-46a7-e53d-a3cfcba67b1f"
      },
      "source": [
        "#Same code as above, however it is formatted to be more readable\n",
        "from numpy.random import randn \n",
        "data = {i:randn() for i in range(7)}\n",
        "print(data)"
      ],
      "execution_count": 14,
      "outputs": [
        {
          "output_type": "stream",
          "text": [
            "{0: -0.25761306753670843, 1: 1.928845084180213, 2: -0.3209566432001895, 3: 0.4029906678822292, 4: -0.3700822438787185, 5: 0.31959887446694524, 6: 1.450104292455635}\n"
          ],
          "name": "stdout"
        }
      ]
    },
    {
      "cell_type": "code",
      "metadata": {
        "id": "kwWHuRbzfcGR",
        "colab_type": "code",
        "colab": {}
      },
      "source": [
        "#Sample image below of jupyter notebook via Annaconda below"
      ],
      "execution_count": null,
      "outputs": []
    },
    {
      "cell_type": "markdown",
      "metadata": {
        "id": "P5DvtXKEHkmO",
        "colab_type": "text"
      },
      "source": [
        "![picture](https://drive.google.com/uc?id=1cyJh8mocqF5muikfnTg5UxeNcDx4PBdi)"
      ]
    },
    {
      "cell_type": "code",
      "metadata": {
        "id": "WzcJKd_JJvBN",
        "colab_type": "code",
        "colab": {
          "base_uri": "https://localhost:8080/",
          "height": 35
        },
        "outputId": "57b3e573-8130-4c45-af9d-7fce3bcf5dba"
      },
      "source": [
        "# def add_numbers(x, y):\n",
        "    ##return x + y\n",
        "\n",
        "x = 5\n",
        "y = 6\n",
        "add_numbers(x,y)"
      ],
      "execution_count": 31,
      "outputs": [
        {
          "output_type": "execute_result",
          "data": {
            "text/plain": [
              "11"
            ]
          },
          "metadata": {
            "tags": []
          },
          "execution_count": 31
        }
      ]
    },
    {
      "cell_type": "code",
      "metadata": {
        "id": "H8yuZ1NeLjO_",
        "colab_type": "code",
        "colab": {}
      },
      "source": [
        "#A magic command is any command prefixed by the percent symbol %. For example, you can check the execution time of any Python statement, such as a matrix multiplication, using the %timeit magic function"
      ],
      "execution_count": null,
      "outputs": []
    },
    {
      "cell_type": "code",
      "metadata": {
        "id": "Cphul5fNNfnn",
        "colab_type": "code",
        "colab": {
          "base_uri": "https://localhost:8080/",
          "height": 243
        },
        "outputId": "26dbdd60-7baf-46e8-ae81-d72e1110fb65"
      },
      "source": [
        "a = np.random.randn(100, 100)\n",
        "print(a)"
      ],
      "execution_count": 46,
      "outputs": [
        {
          "output_type": "stream",
          "text": [
            "[[-0.19966054 -0.62198952  2.30976677 ...  1.19693758 -1.97945231\n",
            "  -2.06670716]\n",
            " [ 0.76780501  1.37223018  2.03516933 ...  1.35885318  0.13305767\n",
            "   0.05954781]\n",
            " [-0.15473923 -0.1249686  -0.12454222 ...  0.17420417 -0.90869166\n",
            "   0.86212282]\n",
            " ...\n",
            " [ 1.43138397  2.31892876  0.16239932 ... -0.3273395   1.08173055\n",
            "   0.29426134]\n",
            " [-0.55455036  0.1197713   0.97130184 ...  0.99642105 -1.40196152\n",
            "  -0.22460483]\n",
            " [ 1.11338247  1.07587211  0.19434887 ...  1.44303396 -0.28333717\n",
            "   0.28617896]]\n"
          ],
          "name": "stdout"
        }
      ]
    },
    {
      "cell_type": "code",
      "metadata": {
        "id": "8arya_WYQOwo",
        "colab_type": "code",
        "colab": {
          "base_uri": "https://localhost:8080/",
          "height": 52
        },
        "outputId": "254b7497-fd60-4298-b516-8fbb57a25633"
      },
      "source": [
        "%timeit np.dot(a, a)"
      ],
      "execution_count": null,
      "outputs": [
        {
          "output_type": "stream",
          "text": [
            "The slowest run took 90.33 times longer than the fastest. This could mean that an intermediate result is being cached.\n",
            "10000 loops, best of 3: 100 µs per loop\n"
          ],
          "name": "stdout"
        }
      ]
    },
    {
      "cell_type": "code",
      "metadata": {
        "id": "6j4yUvZ6Rzl2",
        "colab_type": "code",
        "colab": {
          "base_uri": "https://localhost:8080/",
          "height": 35
        },
        "outputId": "97d282ca-4ab8-4e5a-87c2-f08fdd5a7179"
      },
      "source": [
        "#Matplotlib is a plotting library for the Python programming language\n",
        "%matplotlib"
      ],
      "execution_count": 48,
      "outputs": [
        {
          "output_type": "stream",
          "text": [
            "Using matplotlib backend: agg\n"
          ],
          "name": "stdout"
        }
      ]
    },
    {
      "cell_type": "code",
      "metadata": {
        "id": "YL9qefOFSgTv",
        "colab_type": "code",
        "colab": {}
      },
      "source": [
        "%matplotlib inline"
      ],
      "execution_count": 49,
      "outputs": []
    },
    {
      "cell_type": "code",
      "metadata": {
        "id": "jyPXmVDASjI_",
        "colab_type": "code",
        "colab": {
          "base_uri": "https://localhost:8080/",
          "height": 283
        },
        "outputId": "34541351-494d-4f60-a5de-f597f8561a87"
      },
      "source": [
        "import matplotlib.pyplot as plt\n",
        "plt.plot(np.random.randn(50).cumsum())"
      ],
      "execution_count": 50,
      "outputs": [
        {
          "output_type": "execute_result",
          "data": {
            "text/plain": [
              "[<matplotlib.lines.Line2D at 0x7f07af8e3a20>]"
            ]
          },
          "metadata": {
            "tags": []
          },
          "execution_count": 50
        },
        {
          "output_type": "display_data",
          "data": {
            "image/png": "[encoded data removed]",
            "text/plain": [
              "<Figure size 432x288 with 1 Axes>"
            ]
          },
          "metadata": {
            "tags": [],
            "needs_background": "light"
          }
        }
      ]
    },
    {
      "cell_type": "code",
      "metadata": {
        "id": "7-329bnIS0Ng",
        "colab_type": "code",
        "colab": {
          "base_uri": "https://localhost:8080/",
          "height": 35
        },
        "outputId": "bd433b03-1809-47bc-f3b0-64f87a17b366"
      },
      "source": [
        "#Assigning a variable (or name) in Python creates a reference to the object on the righthand side of the equals sign\n",
        "a = [1, 2 , 3]\n",
        "b = a\n",
        "a.append(4)\n",
        "b"
      ],
      "execution_count": 56,
      "outputs": [
        {
          "output_type": "execute_result",
          "data": {
            "text/plain": [
              "[1, 2, 3, 4]"
            ]
          },
          "metadata": {
            "tags": []
          },
          "execution_count": 56
        }
      ]
    },
    {
      "cell_type": "code",
      "metadata": {
        "id": "jQ9hT_kgWPTf",
        "colab_type": "code",
        "colab": {
          "base_uri": "https://localhost:8080/",
          "height": 35
        },
        "outputId": "7b9be6cb-79c0-4091-9f86-aa9c2423e5de"
      },
      "source": [
        "# Assignment is also referred to as binding, as we are binding a name to an object. \n",
        "# Variable names that have been assigned may occasionally be referred to as bound variables.\n",
        "\n",
        "def append_element(some_list, element):\n",
        " some_list.append(element)\n",
        "\n",
        "data = [1, 2, 3]\n",
        "append_element(data, 4)\n",
        "data"
      ],
      "execution_count": 60,
      "outputs": [
        {
          "output_type": "execute_result",
          "data": {
            "text/plain": [
              "[1, 2, 3, 4]"
            ]
          },
          "metadata": {
            "tags": []
          },
          "execution_count": 60
        }
      ]
    },
    {
      "cell_type": "code",
      "metadata": {
        "id": "yR5pa6GNXTWY",
        "colab_type": "code",
        "colab": {
          "base_uri": "https://localhost:8080/",
          "height": 35
        },
        "outputId": "0c9c6541-a53e-471a-8a10-00313b426ae5"
      },
      "source": [
        "#Identifying the type of variable\n",
        "a = 5\n",
        "type(a)\n",
        "\n",
        "b = 'foo'\n",
        "type(b)"
      ],
      "execution_count": 65,
      "outputs": [
        {
          "output_type": "execute_result",
          "data": {
            "text/plain": [
              "str"
            ]
          },
          "metadata": {
            "tags": []
          },
          "execution_count": 65
        }
      ]
    },
    {
      "cell_type": "code",
      "metadata": {
        "id": "_sS2ZaKhYpXl",
        "colab_type": "code",
        "colab": {
          "base_uri": "https://localhost:8080/",
          "height": 35
        },
        "outputId": "f2b99494-81b4-4222-d88f-2d1b686229ca"
      },
      "source": [
        "print('a is {0}, b is {1}'.format(type(a), type(b)))"
      ],
      "execution_count": 67,
      "outputs": [
        {
          "output_type": "stream",
          "text": [
            "a is <class 'int'>, b is <class 'str'>\n"
          ],
          "name": "stdout"
        }
      ]
    },
    {
      "cell_type": "code",
      "metadata": {
        "id": "TvTnvpTpZa6z",
        "colab_type": "code",
        "colab": {
          "base_uri": "https://localhost:8080/",
          "height": 35
        },
        "outputId": "14f619bc-e148-4024-98e9-08f57fc55687"
      },
      "source": [
        "#Check if an object is a particular type \n",
        "a = 5\n",
        "isinstance(a, int)"
      ],
      "execution_count": 70,
      "outputs": [
        {
          "output_type": "execute_result",
          "data": {
            "text/plain": [
              "True"
            ]
          },
          "metadata": {
            "tags": []
          },
          "execution_count": 70
        }
      ]
    },
    {
      "cell_type": "code",
      "metadata": {
        "id": "59OPS7QecP3m",
        "colab_type": "code",
        "colab": {
          "base_uri": "https://localhost:8080/",
          "height": 35
        },
        "outputId": "abbd0318-3891-4ec6-f316-c5c2bb7e970e"
      },
      "source": [
        "#Operators \n",
        "5 - 7"
      ],
      "execution_count": 71,
      "outputs": [
        {
          "output_type": "execute_result",
          "data": {
            "text/plain": [
              "-2"
            ]
          },
          "metadata": {
            "tags": []
          },
          "execution_count": 71
        }
      ]
    },
    {
      "cell_type": "code",
      "metadata": {
        "id": "OxZ9kWWbcStW",
        "colab_type": "code",
        "colab": {
          "base_uri": "https://localhost:8080/",
          "height": 35
        },
        "outputId": "7df4f0d0-52e7-4993-cfd4-6768911d7c19"
      },
      "source": [
        "5 <= 2"
      ],
      "execution_count": 72,
      "outputs": [
        {
          "output_type": "execute_result",
          "data": {
            "text/plain": [
              "False"
            ]
          },
          "metadata": {
            "tags": []
          },
          "execution_count": 72
        }
      ]
    },
    {
      "cell_type": "code",
      "metadata": {
        "id": "Z_QZPYuOcWG4",
        "colab_type": "code",
        "colab": {
          "base_uri": "https://localhost:8080/",
          "height": 35
        },
        "outputId": "f5790927-a46e-43ee-f1a8-88f06baa8688"
      },
      "source": [
        "a = [1, 2, 3]\n",
        "b = a\n",
        "c = list(a)\n",
        "a is b"
      ],
      "execution_count": 76,
      "outputs": [
        {
          "output_type": "execute_result",
          "data": {
            "text/plain": [
              "True"
            ]
          },
          "metadata": {
            "tags": []
          },
          "execution_count": 76
        }
      ]
    },
    {
      "cell_type": "code",
      "metadata": {
        "id": "883JinencgYm",
        "colab_type": "code",
        "colab": {
          "base_uri": "https://localhost:8080/",
          "height": 35
        },
        "outputId": "0c41250a-d3d8-4a8f-b60e-5ee80458227f"
      },
      "source": [
        "a is not c"
      ],
      "execution_count": 77,
      "outputs": [
        {
          "output_type": "execute_result",
          "data": {
            "text/plain": [
              "True"
            ]
          },
          "metadata": {
            "tags": []
          },
          "execution_count": 77
        }
      ]
    },
    {
      "cell_type": "code",
      "metadata": {
        "id": "7wUVtsyjZgPP",
        "colab_type": "code",
        "colab": {
          "base_uri": "https://localhost:8080/",
          "height": 35
        },
        "outputId": "7287cc4f-1163-484d-95aa-c72aba08015d"
      },
      "source": [
        "a = None\n",
        "a is None"
      ],
      "execution_count": 78,
      "outputs": [
        {
          "output_type": "execute_result",
          "data": {
            "text/plain": [
              "True"
            ]
          },
          "metadata": {
            "tags": []
          },
          "execution_count": 78
        }
      ]
    },
    {
      "cell_type": "code",
      "metadata": {
        "id": "yfm8UarTeK_6",
        "colab_type": "code",
        "colab": {
          "base_uri": "https://localhost:8080/",
          "height": 35
        },
        "outputId": "106eaed4-6f5d-47ad-ba4f-cb9a382eb821"
      },
      "source": [
        "from datetime import datetime, date, time\n",
        "dt = datetime(2011, 10, 29, 20, 30, 21)\n",
        "dt.day"
      ],
      "execution_count": 79,
      "outputs": [
        {
          "output_type": "execute_result",
          "data": {
            "text/plain": [
              "29"
            ]
          },
          "metadata": {
            "tags": []
          },
          "execution_count": 79
        }
      ]
    },
    {
      "cell_type": "code",
      "metadata": {
        "id": "3J9D5HAleP-0",
        "colab_type": "code",
        "colab": {
          "base_uri": "https://localhost:8080/",
          "height": 35
        },
        "outputId": "7fe17580-17b4-4a9b-b99f-50efedb116f5"
      },
      "source": [
        "dt.minute"
      ],
      "execution_count": 80,
      "outputs": [
        {
          "output_type": "execute_result",
          "data": {
            "text/plain": [
              "30"
            ]
          },
          "metadata": {
            "tags": []
          },
          "execution_count": 80
        }
      ]
    },
    {
      "cell_type": "code",
      "metadata": {
        "id": "3tdp9aZweg4Z",
        "colab_type": "code",
        "colab": {
          "base_uri": "https://localhost:8080/",
          "height": 35
        },
        "outputId": "cf3fb1aa-2fec-4d28-a49b-b44bf16c9c6c"
      },
      "source": [
        "range(10)"
      ],
      "execution_count": 81,
      "outputs": [
        {
          "output_type": "execute_result",
          "data": {
            "text/plain": [
              "range(0, 10)"
            ]
          },
          "metadata": {
            "tags": []
          },
          "execution_count": 81
        }
      ]
    },
    {
      "cell_type": "code",
      "metadata": {
        "id": "Vp_aEI6PeiUh",
        "colab_type": "code",
        "colab": {
          "base_uri": "https://localhost:8080/",
          "height": 35
        },
        "outputId": "79d13bc0-80a6-4dc0-9f98-d711e367cb35"
      },
      "source": [
        "list(range(10))"
      ],
      "execution_count": 82,
      "outputs": [
        {
          "output_type": "execute_result",
          "data": {
            "text/plain": [
              "[0, 1, 2, 3, 4, 5, 6, 7, 8, 9]"
            ]
          },
          "metadata": {
            "tags": []
          },
          "execution_count": 82
        }
      ]
    },
    {
      "cell_type": "code",
      "metadata": {
        "id": "1WKMFiTmek3C",
        "colab_type": "code",
        "colab": {
          "base_uri": "https://localhost:8080/",
          "height": 35
        },
        "outputId": "abf4b821-20b7-4ee5-ee57-c19f30cf21b7"
      },
      "source": [
        "list(range(0, 20, 2))"
      ],
      "execution_count": 83,
      "outputs": [
        {
          "output_type": "execute_result",
          "data": {
            "text/plain": [
              "[0, 2, 4, 6, 8, 10, 12, 14, 16, 18]"
            ]
          },
          "metadata": {
            "tags": []
          },
          "execution_count": 83
        }
      ]
    },
    {
      "cell_type": "code",
      "metadata": {
        "id": "oIFjerYWerJ6",
        "colab_type": "code",
        "colab": {
          "base_uri": "https://localhost:8080/",
          "height": 35
        },
        "outputId": "8772df0b-3790-4a39-ff06-229a1aa7490f"
      },
      "source": [
        "list(range(5, 0, -1))"
      ],
      "execution_count": 84,
      "outputs": [
        {
          "output_type": "execute_result",
          "data": {
            "text/plain": [
              "[5, 4, 3, 2, 1]"
            ]
          },
          "metadata": {
            "tags": []
          },
          "execution_count": 84
        }
      ]
    }
  ]
}
